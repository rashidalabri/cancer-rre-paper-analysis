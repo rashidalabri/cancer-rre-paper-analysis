{
 "cells": [
  {
   "cell_type": "markdown",
   "id": "76e5edd2-2c00-4426-8957-6d1ad7d335a5",
   "metadata": {},
   "source": [
    "# Recurrent repeat expansions in human cancer genomes"
   ]
  },
  {
   "cell_type": "code",
   "execution_count": null,
   "id": "492092ac-96ea-4d7f-8705-a268a9ff81fb",
   "metadata": {},
   "outputs": [],
   "source": [
    "import pandas as pd\n",
    "import numpy as np\n",
    "\n",
    "import matplotlib\n",
    "import matplotlib.pyplot as plt\n",
    "from matplotlib.backends.backend_pdf import PdfPages\n",
    "\n",
    "import seaborn as sns\n",
    "\n",
    "from scipy import stats\n",
    "\n",
    "import statsmodels.api as sm\n",
    "import statsmodels\n",
    "\n",
    "from lifelines.statistics import logrank_test\n",
    "from lifelines import KaplanMeierFitter\n",
    "from lifelines.plotting import add_at_risk_counts\n",
    "\n",
    "from pyliftover import LiftOver\n",
    "\n",
    "from pathlib import Path\n",
    "\n",
    "%matplotlib inline\n",
    "sns.set_context('paper', font_scale=1.1)\n",
    "sns.set_style('ticks')\n",
    "\n",
    "matplotlib.rcParams['pdf.fonttype'] = 42\n",
    "matplotlib.rcParams['ps.fonttype'] = 42"
   ]
  },
  {
   "cell_type": "markdown",
   "id": "6dd21f81-6147-4d65-84c8-52140b562904",
   "metadata": {},
   "source": [
    "## Data preparation & helpers"
   ]
  },
  {
   "cell_type": "code",
   "execution_count": null,
   "id": "73902aec-5918-4da2-bd1a-2580fafe8055",
   "metadata": {},
   "outputs": [],
   "source": [
    "ROOT = Path('/labs/mpsnyder/gerwin/TR_analysis/')\n",
    "CANCER_EXP_PATH = ROOT/'ashwini/V1.0/expt/cancer_v100/'\n",
    "CANCER_LIST_PATH =ROOT/'ashwini/V1.0/src/cancerlist.v100'"
   ]
  },
  {
   "cell_type": "code",
   "execution_count": null,
   "id": "9ca6a0e8-fb3f-4894-b9ec-df90c76b87b6",
   "metadata": {},
   "outputs": [],
   "source": [
    "CANCER_NAMES = [name.strip() for name in open(\"data/input/cancerlist.txt\").readlines()]\n",
    "CHROMS = [f\"chr{i}\" for i in range(1, 22+1)] + ['chrX', 'chrY']\n",
    "RRE = pd.read_table(\"data/input/rre.tsv\")\n",
    "RRE[\"chr\"] = \"chr\" + RRE[\"chr\"]"
   ]
  },
  {
   "cell_type": "code",
   "execution_count": null,
   "id": "cc9b3102-2784-4847-82e3-835ddca04f72",
   "metadata": {},
   "outputs": [],
   "source": [
    "REF_GENOME = \"\" # LEFT HERE\n",
    "BAM_CAKI_1 = \"/home/rashid/TR_analysis/rashid/dna_meth_rre/pbmm2/Caki-1.5mc.aligned.GRCh37.bam\"\n",
    "BAM_786_O = \"/home/rashid/TR_analysis/rashid/dna_meth_rre/pbmm2/786-O.5mc.aligned.GRCh37.bam\""
   ]
  },
  {
   "cell_type": "code",
   "execution_count": null,
   "id": "8f1499d5-ef7b-4464-98cc-02860039fbb4",
   "metadata": {},
   "outputs": [],
   "source": [
    "def calc_effect_size(control, experiment):\n",
    "    # https://www.statisticshowto.com/probability-and-statistics/statistics-definitions/cohens-d/\n",
    "    pooled_sd = ((experiment.std() ** 2 + control.std() ** 2) / 2) ** 0.5\n",
    "    mean_diff =  experiment.mean() - control.mean()\n",
    "    return mean_diff / pooled_sd"
   ]
  },
  {
   "cell_type": "markdown",
   "id": "5c734f29-6937-4ace-a76a-b1b3225f23cc",
   "metadata": {},
   "source": [
    "## Main Figures"
   ]
  },
  {
   "cell_type": "markdown",
   "id": "fa5136d3-c8a9-4e75-8774-0a267020ee2c",
   "metadata": {},
   "source": [
    "### (2E) Distance of rREs to the nearest cCRE"
   ]
  },
  {
   "cell_type": "markdown",
   "id": "abf17229-1987-4fee-93b2-46049d19cf5b",
   "metadata": {},
   "source": [
    "#### Download catalogs and sort"
   ]
  },
  {
   "cell_type": "markdown",
   "id": "5484b572-b4a6-4c54-85ce-b55db69dfe1f",
   "metadata": {},
   "source": [
    "The simple repeats catalogue was downloaded from [the UCSC genome broswer](https://genome.ucsc.edu/cgi-bin/hgTables). The cCRE catalog (Registry V3 in hg38 coordinates) was downloaded from the [ENCODE project](https://screen.encodeproject.org/). Then, it was lifted over to hg19 using the online [liftover tool](https://genome.ucsc.edu/cgi-bin/hgLiftOver)."
   ]
  },
  {
   "cell_type": "markdown",
   "id": "b13573f1-4399-44dc-a26d-85deb2aece1a",
   "metadata": {},
   "source": [
    "#### Clean and adjust size of simple repeats"
   ]
  },
  {
   "cell_type": "code",
   "execution_count": null,
   "id": "0c09d3ad-261d-45b2-aba5-7cc14470fb06",
   "metadata": {},
   "outputs": [],
   "source": [
    "simplerepeats = pd.read_table(\"data/input/simplerepeats.bed\", header=None, usecols=range(3))\n",
    "simplerepeats.columns = [\"chr\", \"start\", \"stop\"]\n",
    "\n",
    "# only include repeats within chr1 to chrY\n",
    "simplerepeats = simplerepeats.loc[simplerepeats[\"chr\"].isin(CHROMS)]"
   ]
  },
  {
   "cell_type": "markdown",
   "id": "23b4ad8b-1c8e-415a-ae4c-1bc50032013f",
   "metadata": {},
   "source": [
    "Save as BED file and sort."
   ]
  },
  {
   "cell_type": "code",
   "execution_count": null,
   "id": "7cb8db9d-1c5e-492a-a59b-907f096eb57b",
   "metadata": {},
   "outputs": [],
   "source": [
    "simplerepeats.to_csv(\"data/input/simplerepeats_clean.bed\", index=False, header=None, sep=\"\\t\")\n",
    "!sort -k1,1 -k2,2n data/input/simplerepeats_clean.bed > data/input/simplerepeats_clean.sorted.bed"
   ]
  },
  {
   "cell_type": "markdown",
   "id": "d175401b-197e-4132-a24e-83a146d08a1b",
   "metadata": {},
   "source": [
    "#### Find distance of closest cCRE to rREs and Simple Repeats"
   ]
  },
  {
   "cell_type": "code",
   "execution_count": null,
   "id": "06ca92f6-dc71-4607-81be-e92585d61462",
   "metadata": {},
   "outputs": [],
   "source": [
    "!module load bedtools && bedtools closest -d -t first -a \"data/input/rre.bed\" -b \"data/input/ccre.sorted.bed\" > \"data/output/closest_rre_ccre.bed\""
   ]
  },
  {
   "cell_type": "code",
   "execution_count": null,
   "id": "002abb33-f3a5-4cf9-975f-9c8822ef00fc",
   "metadata": {},
   "outputs": [],
   "source": [
    "!module load bedtools && bedtools closest -d -t first -a \"data/input/simplerepeats_clean.sorted.bed\" -b \"data/input/ccre.sorted.bed\" > \"data/output/closest_simplerepeats_ccre.bed\""
   ]
  },
  {
   "cell_type": "markdown",
   "id": "b20c3c8d-9825-4b1c-b86d-b5886dd57602",
   "metadata": {},
   "source": [
    "#### Prepare data"
   ]
  },
  {
   "cell_type": "code",
   "execution_count": null,
   "id": "d7f77d58-f671-48ca-a41e-1d8d4fec819b",
   "metadata": {},
   "outputs": [],
   "source": [
    "rre_distance = pd.read_table(\"data/output/closest_rre_ccre.bed\", header=None)\n",
    "simple_distance = pd.read_table(\"data/output/closest_simplerepeats_ccre.bed\", header=None)\n",
    "\n",
    "# Extract distance column from bedtools output\n",
    "distance_col = 9\n",
    "rre_distance = rre_distance[[distance_col]].rename({distance_col: \"distance\"}, axis=\"columns\")\n",
    "simple_distance = simple_distance[[distance_col]].rename({distance_col: \"distance\"}, axis=\"columns\")\n",
    "\n",
    "rre_distance[\"type\"] = \"rREs\"\n",
    "simple_distance[\"type\"] = \"Simple Repeats\"\n",
    "\n",
    "# Convert distance to kbp\n",
    "rre_distance[\"distance\"] = rre_distance[\"distance\"] / 10**3\n",
    "simple_distance[\"distance\"] = simple_distance[\"distance\"] / 10**3\n",
    "\n",
    "simple_distance = simple_distance[simple_distance[\"distance\"] < 25000]\n",
    "\n",
    "# Merge the two dataframes\n",
    "data = pd.concat([rre_distance, simple_distance], ignore_index=True)"
   ]
  },
  {
   "cell_type": "markdown",
   "id": "747341d6-8cfe-4f4e-840a-adde897f8059",
   "metadata": {},
   "source": [
    "#### How many rREs directly overlap with a cCRE?"
   ]
  },
  {
   "cell_type": "code",
   "execution_count": null,
   "id": "0dd28aeb-de37-41de-9649-d76b7c228c0b",
   "metadata": {},
   "outputs": [],
   "source": [
    "len(rre_distance[rre_distance[\"distance\"] == 0])"
   ]
  },
  {
   "cell_type": "markdown",
   "id": "9e3e1313-241e-4b5b-a805-7a997cde7e4f",
   "metadata": {},
   "source": [
    "#### Calculate p-value"
   ]
  },
  {
   "cell_type": "code",
   "execution_count": null,
   "id": "bf15be11-685d-466e-b99d-3f6641617c39",
   "metadata": {},
   "outputs": [],
   "source": [
    "_, p_value = stats.ttest_ind(rre_distance[\"distance\"], simple_distance[\"distance\"], equal_var=False)\n",
    "print(f\"p={p_value}\")"
   ]
  },
  {
   "cell_type": "markdown",
   "id": "a8bbfcdf-9889-4b9c-91fe-40996d1c099e",
   "metadata": {},
   "source": [
    "#### Calculate effect size (Cohens's d)"
   ]
  },
  {
   "cell_type": "code",
   "execution_count": null,
   "id": "ab455bf8-d0bf-42a5-a0ac-2ee364f56999",
   "metadata": {},
   "outputs": [],
   "source": [
    "cohen_d = calc_effect_size(simple_distance[\"distance\"], rre_distance[\"distance\"])\n",
    "print(f\"d={cohen_d}\")"
   ]
  },
  {
   "cell_type": "markdown",
   "id": "55936818-3921-4bcb-aa81-242b701c3067",
   "metadata": {},
   "source": [
    "#### Plot"
   ]
  },
  {
   "cell_type": "code",
   "execution_count": null,
   "id": "7b645e27-5577-4f15-85e6-7706c5a4708f",
   "metadata": {},
   "outputs": [],
   "source": [
    "pdf = PdfPages(\"data/plot/2022-10-17-distance-to-nearest-ccre.pdf\")\n",
    "\n",
    "fig, ax = plt.subplots()\n",
    "sns.boxplot(x=\"type\", y=\"distance\", order=[\"Simple Repeats\", \"rREs\"], showfliers=False, width=0.25, data=data, ax=ax)\n",
    "ax.set_title(f\"Distance to Nearest cCRE\\np={p_value}\\nd={cohen_d}\")\n",
    "ax.set_xlabel(\"\")\n",
    "ax.set_ylabel(\"Distance (kbp)\")\n",
    "\n",
    "# ax.axhline(y=rre_distance[\"distance\"].mean(), linestyle=\"-\")\n",
    "# ax.axhline(y=simple_distance[\"distance\"].mean(), linestyle=\"--\")\n",
    "\n",
    "sns.despine()\n",
    "plt.setp(ax.artists, edgecolor = 'k', facecolor='w')\n",
    "plt.setp(ax.lines, color='k')\n",
    "ax.grid(False)\n",
    "plt.tight_layout()\n",
    "\n",
    "pdf.savefig(transparent=True)\n",
    "pdf.close()"
   ]
  },
  {
   "cell_type": "markdown",
   "id": "d63ed680-6e5c-4fe9-a038-20612016201f",
   "metadata": {},
   "source": [
    "### (3C) Distance to prostate cancer risk loci"
   ]
  },
  {
   "cell_type": "markdown",
   "id": "e1b3c7f5-2822-41d6-bd19-79862f6150ac",
   "metadata": {},
   "source": [
    "The Prost-AdenoCA risk loci were obtained from [Schumacker et al.](https://www.nature.com/articles/s41588-018-0142-8). We extract the first three columns (chr, start, stop) from the file and sort it. Then, we extract the chromosomes the the risk loci are located in."
   ]
  },
  {
   "cell_type": "code",
   "execution_count": null,
   "id": "859e20d4-d06b-4b10-ad7f-841fe7c276a8",
   "metadata": {},
   "outputs": [],
   "source": [
    "!cat data/input/Prostate-AdenoCA-risk-loci-Schumaker-et-al.bed | awk '{print $1 \"\\t\" $2 \"\\t\" $3}' | sort -k1,1 -k2,2n > data/input/prost_risk_loci_clean.bed"
   ]
  },
  {
   "cell_type": "markdown",
   "id": "4d2f9c8a-26eb-4f70-ab52-34a656d9b308",
   "metadata": {},
   "source": [
    "#### Extract prostate and non-prostate rREs into BED files"
   ]
  },
  {
   "cell_type": "code",
   "execution_count": null,
   "id": "2e7133ad-7cf4-4071-b4a6-0e73f452ebc2",
   "metadata": {},
   "outputs": [],
   "source": [
    "prost_rre = RRE.loc[RRE[\"cancer\"] == \"Prost-AdenoCA\"].copy()\n",
    "non_prost_rre = RRE.loc[~(RRE[\"cancer\"] == \"Prost-AdenoCA\")].copy()\n",
    "\n",
    "len(prost_rre), len(non_prost_rre)"
   ]
  },
  {
   "cell_type": "code",
   "execution_count": null,
   "id": "5eb9adad-fb04-469f-9672-c34fa3e95d4f",
   "metadata": {},
   "outputs": [],
   "source": [
    "prost_rre[[\"chr\", \"start\", \"stop\"]].to_csv(\"data/input/prost_rre.bed\", index=False, header=None, sep=\"\\t\")\n",
    "!sort -k1,1 -k2,2n data/input/prost_rre.bed > data/input/prost_rre.sorted.bed"
   ]
  },
  {
   "cell_type": "code",
   "execution_count": null,
   "id": "18776994-dc8c-4033-b412-3b6723bc625b",
   "metadata": {},
   "outputs": [],
   "source": [
    "non_prost_rre[[\"chr\", \"start\", \"stop\"]].to_csv(\"data/input/non_prost_rre.bed\", index=False, header=None, sep=\"\\t\")\n",
    "!sort -k1,1 -k2,2n data/input/non_prost_rre.bed > data/input/non_prost_rre.sorted.bed"
   ]
  },
  {
   "cell_type": "markdown",
   "id": "c87ced33-89a9-4dd5-be17-720b8e89844d",
   "metadata": {},
   "source": [
    "#### Find distance"
   ]
  },
  {
   "cell_type": "code",
   "execution_count": null,
   "id": "9db9b35d-9d07-4b6a-b2c9-b9110b95e83a",
   "metadata": {},
   "outputs": [],
   "source": [
    "!module load bedtools && bedtools closest -d -a \"data/input/prost_rre.sorted.bed\" -b \"data/input/prost_risk_loci_clean.bed\" > \"data/output/closest_prost_rre_risk_loci.bed\""
   ]
  },
  {
   "cell_type": "code",
   "execution_count": null,
   "id": "0b578d6c-d637-4e01-b603-c89509a902b2",
   "metadata": {},
   "outputs": [],
   "source": [
    "!module load bedtools && bedtools closest -d -a \"data/input/non_prost_rre.sorted.bed\" -b \"data/input/prost_risk_loci_clean.bed\" > \"data/output/closest_non_prost_rre_risk_loci.bed\""
   ]
  },
  {
   "cell_type": "code",
   "execution_count": null,
   "id": "0cfe6c4f-30d8-4858-aa35-d701f996eca0",
   "metadata": {},
   "outputs": [],
   "source": [
    "!module load bedtools && bedtools closest -d -a \"data/input/simplerepeats_clean.sorted.bed\" -b \"data/input/prost_risk_loci_clean.bed\" > \"data/output/closest_simplerepeats_prost_risk_loci.bed\""
   ]
  },
  {
   "cell_type": "markdown",
   "id": "3cde3987-0267-47cd-a02e-a2cebdcacd33",
   "metadata": {},
   "source": [
    "#### Prepare data"
   ]
  },
  {
   "cell_type": "code",
   "execution_count": null,
   "id": "e7407860-93d3-4926-b406-2b5967482543",
   "metadata": {},
   "outputs": [],
   "source": [
    "prost_rre_distance = pd.read_table(\"data/output/closest_prost_rre_risk_loci.bed\", header=None)\n",
    "non_prost_rre_distance = pd.read_table(\"data/output/closest_non_prost_rre_risk_loci.bed\", header=None)\n",
    "simplerepeats_distance = pd.read_table(\"data/output/closest_simplerepeats_prost_risk_loci.bed\", header=None)"
   ]
  },
  {
   "cell_type": "code",
   "execution_count": null,
   "id": "71827e5a-0eb0-49df-8b8b-8d95b895d80b",
   "metadata": {},
   "outputs": [],
   "source": [
    "# Extract distance column from bedtools output\n",
    "distance_col = 6\n",
    "prost_rre_distance = prost_rre_distance[[distance_col]].rename({distance_col: \"distance\"}, axis=\"columns\")\n",
    "non_prost_rre_distance = non_prost_rre_distance[[distance_col]].rename({distance_col: \"distance\"}, axis=\"columns\")\n",
    "simplerepeats_distance = simplerepeats_distance[[distance_col]].rename({distance_col: \"distance\"}, axis=\"columns\")\n",
    "\n",
    "prost_rre_distance[\"type\"] = \"Prost-AdenoCA rREs\"\n",
    "non_prost_rre_distance[\"type\"] = \"Non-Prost-AdenoCA rREs\"\n",
    "simplerepeats_distance[\"type\"] = \"Simple Repeats\"\n",
    "\n",
    "# Convert distance to kbp\n",
    "prost_rre_distance[\"distance\"] = prost_rre_distance[\"distance\"] / 10**3\n",
    "non_prost_rre_distance[\"distance\"] = non_prost_rre_distance[\"distance\"] / 10**3\n",
    "simplerepeats_distance[\"distance\"] = simplerepeats_distance[\"distance\"] / 10**3\n",
    "\n",
    "# Loci that exist on chroms that don't have a risk loci get assigned the max distance\n",
    "prost_rre_distance.loc[prost_rre_distance[\"distance\"] < 0, \"distance\"] = prost_rre_distance[\"distance\"].max()\n",
    "non_prost_rre_distance.loc[non_prost_rre_distance[\"distance\"] < 0, \"distance\"] = non_prost_rre_distance[\"distance\"].max()\n",
    "simplerepeats_distance.loc[simplerepeats_distance[\"distance\"] < 0, \"distance\"] = simplerepeats_distance[\"distance\"].max()\n",
    "\n",
    "# Merge the two dataframes\n",
    "data = pd.concat([prost_rre_distance, non_prost_rre_distance, simplerepeats_distance], ignore_index=True)\n",
    "\n",
    "len(prost_rre_distance), len(non_prost_rre_distance), len(simplerepeats_distance)"
   ]
  },
  {
   "cell_type": "markdown",
   "id": "90d1a7c4-8768-4074-8874-0490b65fe8de",
   "metadata": {},
   "source": [
    "#### Find p-value and effect size"
   ]
  },
  {
   "cell_type": "code",
   "execution_count": null,
   "id": "09046355-3546-4f5c-8fc4-93abc42f4ee5",
   "metadata": {},
   "outputs": [],
   "source": [
    "_, p_value_prost_rre = stats.ttest_ind(prost_rre_distance[\"distance\"], simplerepeats_distance[\"distance\"], equal_var=False)\n",
    "_, p_value_non_prost_rre = stats.ttest_ind(non_prost_rre_distance[\"distance\"], simplerepeats_distance[\"distance\"], equal_var=False)\n",
    "print(f\"Prost-AdenoCA rREs p={p_value_prost_rre}\")\n",
    "print(f\"Non-Prost-AdenoCA rREs p={p_value_non_prost_rre}\")"
   ]
  },
  {
   "cell_type": "code",
   "execution_count": null,
   "id": "af542867-c28c-4f39-865b-c5d4d8f387cb",
   "metadata": {},
   "outputs": [],
   "source": [
    "_, q_values, _, _ = statsmodels.stats.multitest.multipletests([p_value_prost_rre, p_value_non_prost_rre], method='fdr_bh')\n",
    "q_value_prost_rre, q_value_non_prost_rre = q_values[0], q_values[1]\n",
    "print(f\"Prost-AdenoCA rREs q={q_value_prost_rre}\")\n",
    "print(f\"Non-Prost-AdenoCA rREs q={q_value_non_prost_rre}\")"
   ]
  },
  {
   "cell_type": "code",
   "execution_count": null,
   "id": "1b12749d-e86a-4034-b447-e44ecffdb4e6",
   "metadata": {},
   "outputs": [],
   "source": [
    "cohen_d_prost_rre = calc_effect_size(simplerepeats_distance[\"distance\"], prost_rre_distance[\"distance\"])\n",
    "cohen_d_non_prost_rre = calc_effect_size(simplerepeats_distance[\"distance\"], non_prost_rre_distance[\"distance\"])\n",
    "\n",
    "print(f\"Prost-AdenoCA rREs d={cohen_d_prost_rre}\")\n",
    "print(f\"Non-Prost-AdenoCA rREs d={cohen_d_non_prost_rre}\")"
   ]
  },
  {
   "cell_type": "markdown",
   "id": "d9bae573-8135-4e21-8d10-366a70fdead8",
   "metadata": {},
   "source": [
    "#### Plot"
   ]
  },
  {
   "cell_type": "code",
   "execution_count": null,
   "id": "3cc03e5f-2dd1-4fe1-bed7-a4262080bfc7",
   "metadata": {},
   "outputs": [],
   "source": [
    "pdf = PdfPages(\"data/plot/2022-10-17-distance-to-prost-risk-loci.pdf\")\n",
    "\n",
    "fig, ax = plt.subplots()\n",
    "sns.boxplot(x=\"type\", y=\"distance\", order=[\"Simple Repeats\", \"Non-Prost-AdenoCA rREs\", \"Prost-AdenoCA rREs\"], showfliers=False, width=0.25, data=data, ax=ax)\n",
    "ax.set_title(f\"Distance to Nearest Prostate Risk Locus\\nNon-Prost-AdenoCA p={p_value_non_prost_rre}, d={cohen_d_non_prost_rre}\\nProst-AdenoCA p={p_value_prost_rre}, d={cohen_d_prost_rre}\\nq={q_value_prost_rre} (for both)\\n\")\n",
    "ax.set_xlabel(\"\")\n",
    "ax.set_ylabel(\"Distance (kbp)\")\n",
    "\n",
    "sns.despine()\n",
    "plt.setp(ax.artists, edgecolor = 'k', facecolor='w')\n",
    "plt.setp(ax.lines, color='k')\n",
    "ax.grid(False)\n",
    "plt.tight_layout()\n",
    "\n",
    "pdf.savefig(transparent=True)\n",
    "pdf.close()"
   ]
  },
  {
   "cell_type": "markdown",
   "id": "27038e60-6e43-4393-8f6d-f7f052af9e36",
   "metadata": {},
   "source": [
    "### (4B) Long-read DNA sequencing visualization"
   ]
  },
  {
   "cell_type": "markdown",
   "id": "493beb4f-d18f-428e-9014-05134afa5d83",
   "metadata": {},
   "source": [
    "#### Create BED file for TRGT"
   ]
  },
  {
   "cell_type": "code",
   "execution_count": null,
   "id": "a271c087-be7b-413d-ab04-d2f436494f6e",
   "metadata": {},
   "outputs": [],
   "source": [
    "df = pd.read_json(\"data/input/2022-Zhu-148-rRE-Annotations.json\")\n",
    "\n",
    "df[['chr', 'pos']] = df['ReferenceRegion'].str.split(\":\", expand=True)\n",
    "\n",
    "df[['start', 'stop']] = df['pos'].str.split(\"-\", expand=True)\n",
    "\n",
    "df['struc'] = df['LocusStructure'].replace(\"\\*\", \"n\", regex=True) \n",
    "\n",
    "df['info'] = \"ID=\" + df[\"LocusId\"] + \",STRUC=\" + df['struc'] \n",
    "\n",
    "df['chr'] = df['chr'].replace(\"chr\", \"\", regex=True)\n",
    "\n",
    "trgt_bed = df[['chr', 'start', 'stop', 'info']]\n",
    "trgt_bed.to_csv(\"data/input/rres_trtg.bed\", sep=\"\\t\", header=None, index=False)"
   ]
  },
  {
   "cell_type": "markdown",
   "id": "5335c67a-7b1a-47bf-b75b-ff18bd01d8cb",
   "metadata": {},
   "source": [
    "#### Download binaries"
   ]
  },
  {
   "cell_type": "code",
   "execution_count": null,
   "id": "c444421c-a2d3-482b-a00e-16232b91b187",
   "metadata": {},
   "outputs": [],
   "source": [
    "!wget -O util/trvz.gz https://github.com/PacificBiosciences/trgt/releases/download/v0.3.2/trvz-v0.3.2-linux_x86_64.gz"
   ]
  },
  {
   "cell_type": "code",
   "execution_count": null,
   "id": "bed1b567-93c7-447c-b7ae-b011561f7d32",
   "metadata": {},
   "outputs": [],
   "source": [
    "!wget -O util/trgt.gz https://github.com/PacificBiosciences/trgt/releases/download/v0.3.2/trgt-v0.3.2-linux_x86_64.gz"
   ]
  },
  {
   "cell_type": "code",
   "execution_count": null,
   "id": "199367ca-d777-40ed-9506-7e274ff41184",
   "metadata": {},
   "outputs": [],
   "source": [
    "!gunzip util/trvz.gz && gunzip util/trgt.gz"
   ]
  },
  {
   "cell_type": "code",
   "execution_count": null,
   "id": "0749a642-6995-460f-806e-0db095c10804",
   "metadata": {},
   "outputs": [],
   "source": [
    "!chmod +x util/trgt util/trvz"
   ]
  },
  {
   "cell_type": "markdown",
   "id": "fb5af429-6dc9-47f5-907e-7cca1d5cce5b",
   "metadata": {},
   "source": [
    "#### Run TRGT"
   ]
  },
  {
   "cell_type": "markdown",
   "id": "40771528-dac6-4fa8-b94a-98cafb79913f",
   "metadata": {},
   "source": [
    "To run TRGT, download the Caki-1 and 786-O short-read sequencing data (links found in paper), then use the following command to run the tool. Refer to the [TRGT documentation](https://github.com/PacificBiosciences/trgt/blob/main/docs/tutorial.md) for more details on running the tool.\n",
    "\n",
    "```\n",
    "./trgt --genome <REFRENCE_HG19> --repeats data/input/rres_trtg.bed --reads <BAM_FILE> --output-prefix <PREFIX>\n",
    "```"
   ]
  },
  {
   "cell_type": "markdown",
   "id": "c4c059dd-72df-416b-876f-ab914db785ab",
   "metadata": {},
   "source": [
    "#### Run TRVZ"
   ]
  },
  {
   "cell_type": "markdown",
   "id": "1cabd2de-6b99-49ed-9b66-c6bead9657a7",
   "metadata": {},
   "source": [
    "```\n",
    "./trvz --genome example/reference.fasta \\\n",
    "       --repeats example/repeat.bed \\\n",
    "       --vcf sample.sorted.vcf.gz \\\n",
    "       --spanning-reads sample.spanning.sorted.bam \\\n",
    "       --repeat-id TR1 \\\n",
    "       --image TR1.svg\n",
    "```"
   ]
  },
  {
   "cell_type": "markdown",
   "id": "96e991be-897e-42bd-815d-28430573bda0",
   "metadata": {},
   "source": [
    "### (4D) UGT2B7 Transcript Isoform Differential Expression"
   ]
  },
  {
   "cell_type": "markdown",
   "id": "700f8325-01d6-4c1e-9f22-c83033d2c365",
   "metadata": {},
   "source": [
    "#### Download transcript counts from PCAWG"
   ]
  },
  {
   "cell_type": "code",
   "execution_count": null,
   "id": "81e750f2-52e0-415f-a4fa-6d5f7be49f02",
   "metadata": {},
   "outputs": [],
   "source": [
    "!wget -O data/input/pcawg.rnaseq.transcript.expr.counts.tsv.gz https://dcc.icgc.org/api/v1/download?fn=/PCAWG/transcriptome/transcript_expression/pcawg.rnaseq.transcript.expr.tpm.tsv.gz"
   ]
  },
  {
   "cell_type": "code",
   "execution_count": null,
   "id": "3e606dbc-62ed-4781-aa8b-91bcc035a4d9",
   "metadata": {},
   "outputs": [],
   "source": [
    "!gunzip data/input/pcawg.rnaseq.transcript.expr.counts.tsv.gz"
   ]
  },
  {
   "cell_type": "markdown",
   "id": "86239707-acb0-4cdc-b059-c6eb125397b4",
   "metadata": {},
   "source": [
    "#### Prepare metadata for DESeq"
   ]
  },
  {
   "cell_type": "code",
   "execution_count": null,
   "id": "4fe2cfe1-7fdd-420a-b337-bfc0d70778d1",
   "metadata": {},
   "outputs": [],
   "source": [
    "transcripts = ['ENST00000305231.7', 'ENST00000508661.1', 'ENST00000502942.1']\n",
    "\n",
    "patient_file_path = CANCER_EXP_PATH/'{}/output/patientdata/{}_paired_{}_{}_{}_{}.txt'.format('Kidney-RCC', 'Kidney-RCC', 'AAAG', 4, 69929297, 69930148)\n",
    "patients = pd.read_csv(patient_file_path, sep='\\t')\n",
    "patients = patients.rename(columns={'case_id': 'icgc_donor_id'})\n",
    "\n",
    "metadata = pd.read_csv('data/input/rnaseq.extended.metadata.aliquot_id.V4.tsv', sep='\\t')\n",
    "metadata = metadata.rename(columns={'tumor.normal': 'sample_type'})    \n",
    "metadata = metadata[metadata['sample_type'] == 'tumor']\n",
    "metadata = metadata.merge(patients, on='icgc_donor_id')\n",
    "metadata = metadata.rename({'aliquot_id': 'id'}, axis='columns')\n",
    "metadata = metadata[[\"id\", \"exp\"]]\n",
    "\n",
    "metadata.to_csv(\"data/input/ugt2b7_expr_metadata.csv\", index=False)\n",
    "\n",
    "len(metadata)"
   ]
  },
  {
   "cell_type": "markdown",
   "id": "e18f3970-79ee-4840-a384-ec81267dd1f8",
   "metadata": {},
   "source": [
    "#### Run DESeq"
   ]
  },
  {
   "cell_type": "markdown",
   "id": "f48918cb-2c45-461c-8382-15caf1c4f6ab",
   "metadata": {},
   "source": [
    "Run the R notebook `utils/Expression Analysis.ipynb` to complete the analysis."
   ]
  },
  {
   "cell_type": "markdown",
   "id": "a63a7c04-7f7c-40a6-baaa-7f98b2524298",
   "metadata": {},
   "source": [
    "## Extended Data Figures"
   ]
  },
  {
   "cell_type": "markdown",
   "id": "bd3131fd-7a44-49c0-95ea-9ae6939c1c56",
   "metadata": {},
   "source": [
    "### (2D) Estimated Frequency of rREs in the population"
   ]
  },
  {
   "cell_type": "markdown",
   "id": "12e727c3-9c5a-4fd9-a82f-7493f2fc7e45",
   "metadata": {},
   "source": [
    "Here, I am first making a table of the average global-normalized anchored IRR value for each rRE. Then, I am joining that table with the table from Ryan Yuen which has the anchored IRR value for each rRE for each sample in the 1000 Genomes dataste plus others.\n",
    "\n",
    "The bigger picture here is to find loci that are generally shorter than the read length in the population by looking at the average global-normalized anchored IRR value, and then calling samples in the 1000Genomes dataset with an IRR count higher than a threshold expanded (meaning that they are longer than the read length in that sample)."
   ]
  },
  {
   "cell_type": "markdown",
   "id": "8ab719bc-afcc-4e2e-b26c-3196d4ba2472",
   "metadata": {},
   "source": [
    "#### Settings"
   ]
  },
  {
   "cell_type": "code",
   "execution_count": null,
   "id": "24f62ff2-e4da-4a38-8f98-5f1322f53d63",
   "metadata": {},
   "outputs": [],
   "source": [
    "PERCENTILE = 99"
   ]
  },
  {
   "cell_type": "markdown",
   "id": "a588ff4f-526d-44bd-8580-0fc011f5c756",
   "metadata": {},
   "source": [
    "#### Make a table of avg Anchored IRR value for PCAWG"
   ]
  },
  {
   "cell_type": "code",
   "execution_count": null,
   "id": "b81ab4de-8a65-48f6-b00c-92884d315100",
   "metadata": {},
   "outputs": [],
   "source": [
    "tropic = pd.read_table('data/input/tropic_rre.tsv')\n",
    "lrdn = pd.read_table('data/input/rre.tsv')\n",
    "len(tropic), len(lrdn)"
   ]
  },
  {
   "cell_type": "code",
   "execution_count": null,
   "id": "11908638-bbce-4c56-8ad5-c5e4601d3ec1",
   "metadata": {},
   "outputs": [],
   "source": [
    "merged = lrdn.merge(tropic, on=['chr', 'start', 'stop', 'motif', 'cancer'], suffixes=('_lrdn', '_tropic'))\n",
    "merged"
   ]
  },
  {
   "cell_type": "markdown",
   "id": "3ff83c2d-5176-464b-938a-225d08ab503d",
   "metadata": {},
   "source": [
    "#### Calculate the average IRR value for control samples for each locus"
   ]
  },
  {
   "cell_type": "code",
   "execution_count": null,
   "id": "b8b36da9-0a2f-4b80-8d30-249ae0864e2a",
   "metadata": {},
   "outputs": [],
   "source": [
    "def get_control_irr_val_cutoff(repeat):\n",
    "    # Initialize all IRR values of files to zero (only for control samples)\n",
    "    cancer = repeat['cancer']\n",
    "    manifest_path = f'data/input/EHdn_v097_Manifests/{cancer}.manifest.tsv'\n",
    "    manifest = pd.read_csv(manifest_path, header=None, sep=' ')\n",
    "    file_names = list(manifest[0])\n",
    "    irr_values = {f_name: 0 for f_name in file_names if f_name.startswith('control_')}\n",
    "\n",
    "    # Assign IRR values based on ExpansionHunter output\n",
    "    entries = repeat['raw_data_tropic'].split(',')\n",
    "    for entry in entries:\n",
    "        f_name, irr_value = entry.split(':')\n",
    "        if f_name.startswith('control_'):\n",
    "            irr_values[f_name] = float(irr_value)\n",
    "\n",
    "    # avg = np.mean(list(irr_values.values()))\n",
    "    cutoff = np.percentile(list(irr_values.values()), PERCENTILE)\n",
    "    \n",
    "    return cutoff\n",
    "\n",
    "merged['control_irr_cutoff'] = merged.apply(get_control_avg_irr_val, axis=1)"
   ]
  },
  {
   "cell_type": "code",
   "execution_count": null,
   "id": "d218c4ad-554e-41f9-86ae-2358ba7f2576",
   "metadata": {},
   "outputs": [],
   "source": [
    "rre = merged[['chr', 'start', 'stop', 'motif', 'cancer', 'control_irr_cutoff']].copy()"
   ]
  },
  {
   "cell_type": "code",
   "execution_count": null,
   "id": "2a7ea60a-961f-40dd-a038-a2f3cbae7116",
   "metadata": {},
   "outputs": [],
   "source": [
    "rre['chr'] = 'chr' + rre['chr'].astype(str)\n",
    "len(filtered_loci)"
   ]
  },
  {
   "cell_type": "markdown",
   "id": "f117c6f8-a284-4f29-ab3d-33153fb9418b",
   "metadata": {},
   "source": [
    "#### Add some columns we'll use later"
   ]
  },
  {
   "cell_type": "code",
   "execution_count": null,
   "id": "6b1b3cd4-e2b7-4aae-b36c-4005c6f71f2f",
   "metadata": {},
   "outputs": [],
   "source": [
    "rre['locus_id'] = rre['chr'] + '_' + rre['start'].astype(str) + '_' + rre['stop'].astype(str)\n",
    "rre['locus_chr'] = rre['chr']\n",
    "\n",
    "# Expand the window by +/- 1kbp because this is how Yuen did it and we\n",
    "# need to match our Locus IDs with his Cancer IDS\n",
    "rre['locus_start'] = rre['start'].astype(int) - 1000\n",
    "rre['locus_stop'] = rre['stop'].astype(int) + 1000\n",
    "\n",
    "rre.head()"
   ]
  },
  {
   "cell_type": "markdown",
   "id": "f30f6352-3c8e-4e6c-84e9-930ce9943d0c",
   "metadata": {},
   "source": [
    "#### Load the 1000Genomes IRR table"
   ]
  },
  {
   "cell_type": "code",
   "execution_count": null,
   "id": "d2036efb-e1dc-45c4-9311-6bd877292365",
   "metadata": {},
   "outputs": [],
   "source": [
    "irr = pd.read_table('data/input/rREs-v1.0.0.hg38.padded.EHdn_overlap.tsv')"
   ]
  },
  {
   "cell_type": "markdown",
   "id": "d02397f9-cba5-4bfa-9097-f1d1608634f2",
   "metadata": {},
   "source": [
    "#### Split the Cancer_ID & EHdn_ID columns"
   ]
  },
  {
   "cell_type": "code",
   "execution_count": null,
   "id": "e3b60b5e-2201-49ac-b828-ca3277774df4",
   "metadata": {},
   "outputs": [],
   "source": [
    "irr[['cancer_chr', 'cancer_start', 'cancer_stop', 'cancer_motif', 'cancer_type']] = irr['Cancer_ID'].str.split(':', n=4, expand=True)"
   ]
  },
  {
   "cell_type": "code",
   "execution_count": null,
   "id": "6ef1dab3-746b-427d-843a-ccb08dc7790b",
   "metadata": {},
   "outputs": [],
   "source": [
    "irr[['ehdn_chr', 'ehdn_start', 'ehdn_stop', 'ehdn_motif']] = irr['EHdn_ID'].str.split(':', n=3, expand=True)"
   ]
  },
  {
   "cell_type": "markdown",
   "id": "cc846c7f-8996-4a6f-b816-d0910ed73b17",
   "metadata": {},
   "source": [
    "#### Conver to numeric types"
   ]
  },
  {
   "cell_type": "code",
   "execution_count": null,
   "id": "1f1bb9f9-e9da-4914-8a1e-67fbd75ba868",
   "metadata": {},
   "outputs": [],
   "source": [
    "irr[['ehdn_start', 'ehdn_stop']] = irr[['ehdn_start', 'ehdn_stop']].apply(pd.to_numeric)"
   ]
  },
  {
   "cell_type": "code",
   "execution_count": null,
   "id": "8fd0b5c6-d6bb-41fd-814a-a98c57c1c2c3",
   "metadata": {},
   "outputs": [],
   "source": [
    "irr[['cancer_start', 'cancer_stop']] = irr[['cancer_start', 'cancer_stop']].apply(pd.to_numeric)"
   ]
  },
  {
   "cell_type": "markdown",
   "id": "e1509874-04ff-4b66-a6c7-30882853d035",
   "metadata": {},
   "source": [
    "#### Liftover"
   ]
  },
  {
   "cell_type": "code",
   "execution_count": null,
   "id": "f9908d0f-618c-40b3-9294-8e54794ef0b2",
   "metadata": {},
   "outputs": [],
   "source": [
    "lo = LiftOver('hg19', 'hg38')"
   ]
  },
  {
   "cell_type": "code",
   "execution_count": null,
   "id": "3796f1fd-72dd-4972-bedb-2e5146c8dd35",
   "metadata": {},
   "outputs": [],
   "source": [
    "rre[['locus_start_hg38', 'locus_stop_hg38']] = -1\n",
    "        \n",
    "for i, row in rre.iterrows():\n",
    "    chr, start, stop = row['locus_chr'], row['locus_start'], row['locus_stop']\n",
    "    possible_start = lo.convert_coordinate(chr, start)\n",
    "    possible_stop = lo.convert_coordinate(chr, stop)\n",
    "    if possible_start and possible_stop:\n",
    "        # make sure liftover chr matches original\n",
    "        assert(possible_start[0][0] == chr and possible_stop[0][0] == chr) \n",
    "        rre.loc[i, 'locus_start_hg38'] = possible_start[0][1]\n",
    "        rre.loc[i, 'locus_stop_hg38'] = possible_stop[0][1]"
   ]
  },
  {
   "cell_type": "markdown",
   "id": "3620d060-2f6a-4f93-a748-a306b2ee4896",
   "metadata": {},
   "source": [
    "#### Merge IRR table with table that matched Cancer_ID in Yuen's file with our locus IDs"
   ]
  },
  {
   "cell_type": "code",
   "execution_count": null,
   "id": "9e8954af-18c3-4448-a307-cbe0e2df5893",
   "metadata": {},
   "outputs": [],
   "source": [
    "merged = irr.merge(rre, right_on=['locus_chr', 'locus_start_hg38', 'locus_stop_hg38'], left_on=['cancer_chr', 'cancer_start', 'cancer_stop'])"
   ]
  },
  {
   "cell_type": "markdown",
   "id": "36d8436d-a855-4484-be28-1137c5e9112f",
   "metadata": {},
   "source": [
    "#### Convert IRR values to 100bp"
   ]
  },
  {
   "cell_type": "code",
   "execution_count": null,
   "id": "1ff4deae-4a1f-4c36-9564-b20019cdfe49",
   "metadata": {},
   "outputs": [],
   "source": [
    "sample_cols = merged.columns[3:-21]\n",
    "merged[sample_cols] = 0.5 + 1.5 * merged[sample_cols]"
   ]
  },
  {
   "cell_type": "code",
   "execution_count": null,
   "id": "d4bfcfeb-b6d6-4e3c-bcb1-658808e85662",
   "metadata": {},
   "outputs": [],
   "source": [
    "merged.head()"
   ]
  },
  {
   "cell_type": "markdown",
   "id": "a38b13dd-9de6-4aab-8d67-5fe7bbe39aa2",
   "metadata": {},
   "source": [
    "#### Replace IRR values with 0 for not expanded and 1 for expanded"
   ]
  },
  {
   "cell_type": "code",
   "execution_count": null,
   "id": "914bf20a-aa44-40ee-8b9b-49e7dd2c9827",
   "metadata": {},
   "outputs": [],
   "source": [
    "sample_cols = merged.columns[3:-21]\n",
    "\n",
    "for col in sample_cols:\n",
    "    merged[col] = merged[col].astype(float) > merged['control_irr_cutoff']"
   ]
  },
  {
   "cell_type": "markdown",
   "id": "d154d2df-7fc2-4ff4-8b35-d8bfe2cfc5f0",
   "metadata": {},
   "source": [
    "#### Find number of expansions for each row (locus) and then percentage"
   ]
  },
  {
   "cell_type": "markdown",
   "id": "2ac5c6fc-d9bb-418f-b5a4-dd8855617146",
   "metadata": {},
   "source": [
    "We set the number of expansions to 0 if the motif does not match (because that indicates the rRE is not actually present)"
   ]
  },
  {
   "cell_type": "code",
   "execution_count": null,
   "id": "16194530-481c-4a8f-9f96-acb9a9070320",
   "metadata": {},
   "outputs": [],
   "source": [
    "merged['n_expanded'] = merged[sample_cols].sum(axis=1).where(merged['Motif_match'], 0)"
   ]
  },
  {
   "cell_type": "code",
   "execution_count": null,
   "id": "52727336-4ea9-4588-ba4a-145ef01073ea",
   "metadata": {},
   "outputs": [],
   "source": [
    "merged['pct_expanded'] = merged['n_expanded'] / len(sample_cols)"
   ]
  },
  {
   "cell_type": "code",
   "execution_count": null,
   "id": "ed9b9c41-d391-4fea-b290-179ff6bab26f",
   "metadata": {},
   "outputs": [],
   "source": [
    "merged.head()"
   ]
  },
  {
   "cell_type": "code",
   "execution_count": null,
   "id": "0b9c6df7-9a31-45dd-8906-384fc55dd0ab",
   "metadata": {},
   "outputs": [],
   "source": [
    "result = merged[['locus_id', 'Cancer_ID', 'EHdn_ID', 'Motif_match', 'control_irr_cutoff', 'n_expanded', 'pct_expanded']]"
   ]
  },
  {
   "cell_type": "markdown",
   "id": "a8344736-3796-4c79-87f0-1e596f401299",
   "metadata": {},
   "source": [
    "#### For every locus_id, leave only one EHdn_ID (or row) and have it be the Motif_match=True if there is one"
   ]
  },
  {
   "cell_type": "code",
   "execution_count": null,
   "id": "b51101d7-63c7-4ab3-81f0-2fc4ce243723",
   "metadata": {},
   "outputs": [],
   "source": [
    "result = result.sort_values('Motif_match', ascending=False).drop_duplicates('locus_id').sort_values('pct_expanded', ascending=False).reset_index(drop=True)"
   ]
  },
  {
   "cell_type": "markdown",
   "id": "d03e41e6-33c4-4180-bbaf-0513fd918e69",
   "metadata": {},
   "source": [
    "#### Remove loci that do not have matching motif"
   ]
  },
  {
   "cell_type": "code",
   "execution_count": null,
   "id": "1be4ea6d-033c-4673-b534-3fee28446bee",
   "metadata": {},
   "outputs": [],
   "source": [
    "result = result[result['Motif_match'] == True].reset_index(drop=True)"
   ]
  },
  {
   "cell_type": "code",
   "execution_count": null,
   "id": "a5cd224a-00e6-4c5b-ad18-09e4c4f0bdce",
   "metadata": {},
   "outputs": [],
   "source": [
    "result.to_csv(f'data/output/2022-10-14-rre_1000g-irr-percentile-{PERCENTILE}.tsv', index=False, sep='\\t')"
   ]
  },
  {
   "cell_type": "code",
   "execution_count": null,
   "id": "2d2e285e-6bee-4648-b115-43f579dd77b8",
   "metadata": {},
   "outputs": [],
   "source": [
    "result.head()"
   ]
  },
  {
   "cell_type": "code",
   "execution_count": null,
   "id": "45fed1ab-5453-4490-9d16-660b3d4d5783",
   "metadata": {},
   "outputs": [],
   "source": [
    "result.sort_values('pct_expanded', ascending=False)"
   ]
  },
  {
   "cell_type": "code",
   "execution_count": null,
   "id": "bc8fd1ce-1fc3-4b38-902e-7d53818f7744",
   "metadata": {},
   "outputs": [],
   "source": [
    "result['pct_expanded'].describe()"
   ]
  },
  {
   "cell_type": "code",
   "execution_count": null,
   "id": "6dd25e4c-419e-4e09-8fbf-71144e3b6b6a",
   "metadata": {},
   "outputs": [],
   "source": [
    "pdf = PdfPages(f'data/plot/2022-10-14-rre-expansion-1000g-percentile-{PERCENTILE}.pdf')\n",
    "ax = sns.histplot(x='pct_expanded', data=result, binwidth=0.05, color='black')\n",
    "ax.set_title(f'Threshold = {PERCENTILE}th Percentile')\n",
    "ax.set_xlabel('Percentage of the population with the expansion')\n",
    "ax.grid(False)\n",
    "sns.despine(ax=ax, top=True, right=True)\n",
    "pdf.savefig()\n",
    "pdf.close()"
   ]
  },
  {
   "cell_type": "markdown",
   "id": "5ab36cb3-6665-46d6-890f-fde425b77359",
   "metadata": {},
   "source": [
    "### (4A) LRDN Benchmark Global Norm IRR count"
   ]
  },
  {
   "cell_type": "markdown",
   "id": "d0c8dea9-0ba6-4a93-b07b-53ae24515f54",
   "metadata": {},
   "source": [
    "Refer to the `ehdn-lrdn-benchmark` directory in the repository root."
   ]
  },
  {
   "cell_type": "markdown",
   "id": "1413cb70-89ed-4990-828e-b5a65d189c92",
   "metadata": {},
   "source": [
    "### (4B) LRDN Benchmark Local Norm IRR count"
   ]
  },
  {
   "cell_type": "markdown",
   "id": "03d86aad-62f6-4e04-b7ea-4053c71c7493",
   "metadata": {},
   "source": [
    "Refer to the `ehdn-lrdn-benchmark` directory in the repository root."
   ]
  },
  {
   "cell_type": "markdown",
   "id": "5a6ecebd-4565-466c-b4c3-88480005a690",
   "metadata": {},
   "source": [
    "### (5C) Correlation of rREs with Mutational Signatures"
   ]
  },
  {
   "cell_type": "markdown",
   "id": "6510c56a-8774-400b-9d4f-2367577e3500",
   "metadata": {},
   "source": [
    "#### Prepare data"
   ]
  },
  {
   "cell_type": "code",
   "execution_count": null,
   "id": "72fa947a-6733-4fbe-96fd-bee82666d648",
   "metadata": {},
   "outputs": [],
   "source": [
    "sbs = pd.read_csv('data/input/mutational_signatures/PCAWG_sigProfiler_SBS_signatures_in_samples.csv')\n",
    "sbs = sbs.rename({'Cancer Types': 'cancer', 'Sample Names': 'sample_id', 'Accuracy': 'accuracy'}, axis='columns')\n",
    "sbs = sbs[sbs['accuracy'] > 0.95]"
   ]
  },
  {
   "cell_type": "code",
   "execution_count": null,
   "id": "9e096d64-0f62-41b5-a25a-5837d68b908c",
   "metadata": {},
   "outputs": [],
   "source": [
    "dbs = pd.read_csv('data/input/mutational_signatures/PCAWG_sigProfiler_DBS_signatures_in_samples.csv')\n",
    "dbs = dbs.rename({col: col.strip() for col in dbs.columns}, axis='columns')\n",
    "dbs = dbs.rename({'Cancer Types': 'cancer', 'Sample Names': 'sample_id', 'Accuracy': 'accuracy'}, axis='columns')\n",
    "dbs = dbs[dbs['accuracy'] > 0.95]"
   ]
  },
  {
   "cell_type": "code",
   "execution_count": null,
   "id": "bc33c67f-a091-4f16-9dfb-670c45919f30",
   "metadata": {},
   "outputs": [],
   "source": [
    "ids = pd.read_csv('data/input/mutational_signatures/PCAWG_SigProfiler_ID_signatures_in_samples.csv')\n",
    "ids = ids.rename({'Cancer Types': 'cancer', 'Sample Names': 'sample_id', 'Accuracy': 'accuracy'}, axis='columns')\n",
    "ids = ids[ids['accuracy'] > 0.95]"
   ]
  },
  {
   "cell_type": "code",
   "execution_count": null,
   "id": "6f1a1103-ed47-40c0-ab3c-9d1d55483d17",
   "metadata": {},
   "outputs": [],
   "source": [
    "donors = pd.read_csv('data/input/rREs_manuscript_samples_analyzed.tsv', sep='\\t')\n",
    "donors = donors.rename({'donor_id/donor_count': 'donor_id', 'Specimen ID': 'sample_id', 'Number of rREs Detected': 'n_rre'}, axis='columns')\n",
    "donors = donors[['sample_id', 'donor_id', 'n_rre']]\n",
    "donors = donors[~donors['n_rre'].isna()]"
   ]
  },
  {
   "cell_type": "code",
   "execution_count": null,
   "id": "829cb912-1148-45f7-a66c-0b93637ec8c1",
   "metadata": {},
   "outputs": [],
   "source": [
    "age = pd.read_excel('data/input/PCAWG7_age_information.xlsx')\n",
    "age.columns = ['sample_id', 'age']"
   ]
  },
  {
   "cell_type": "code",
   "execution_count": null,
   "id": "58bbf151-797b-4464-9fcd-7744544b44ab",
   "metadata": {},
   "outputs": [],
   "source": [
    "from functools import reduce\n",
    "dfs = [dbs, ids, sbs, donors, age]\n",
    "df = reduce(lambda  left,right: pd.merge(left, right, on='sample_id', suffixes=(None, '_x')), dfs)"
   ]
  },
  {
   "cell_type": "code",
   "execution_count": null,
   "id": "406f2cf7-abb8-483b-9997-81a52b24e68f",
   "metadata": {},
   "outputs": [],
   "source": [
    "mut_sig_cols = [col for col in df.columns if col.startswith('SBS') or col.startswith('DBS') or col.startswith('ID')]"
   ]
  },
  {
   "cell_type": "code",
   "execution_count": null,
   "id": "1b0c8da7-dbb5-4022-9cdb-3d9cfe6bfa7e",
   "metadata": {},
   "outputs": [],
   "source": [
    "df = df[['donor_id', 'cancer', 'n_rre', 'age'] + mut_sig_cols]"
   ]
  },
  {
   "cell_type": "markdown",
   "id": "73a88122-6c9e-4d69-a57f-2f58f922dbd5",
   "metadata": {},
   "source": [
    "#### Run predictor selection"
   ]
  },
  {
   "cell_type": "code",
   "execution_count": null,
   "id": "ddd2f7fa-f351-49d4-b5ad-9a05b6ba8827",
   "metadata": {
    "tags": []
   },
   "outputs": [],
   "source": [
    "potential_cols = mut_sig_cols + ['age']\n",
    "\n",
    "def get_rsquared(cols):\n",
    "    if len(cols) > 0:\n",
    "        X = sm.add_constant(df[cols])\n",
    "        y = df['n_rre']\n",
    "        model_w_const = sm.OLS(y, X).fit()\n",
    "        \n",
    "        X = df[cols]\n",
    "        y = df['n_rre']\n",
    "        model_no_const = sm.OLS(y, X).fit()\n",
    "        \n",
    "        return max(model_w_const.rsquared, model_no_const.rsquared)\n",
    "    else:\n",
    "        return 0\n",
    "\n",
    "def column_selection(cols=[], i=0):\n",
    "    if i == len(potential_cols):\n",
    "        return get_rsquared(cols), cols\n",
    "    \n",
    "    include_r, include_cols =  column_selection(cols + [potential_cols[i]], i+1)\n",
    "    exclude_r, exclude_cols =  column_selection(cols, i+1)\n",
    "    \n",
    "    if include_r > exclude_r:\n",
    "        return include_r, include_cols\n",
    "    else:\n",
    "        return exclude_r, exclude_cols\n",
    "    \n",
    "column_selection()"
   ]
  },
  {
   "cell_type": "markdown",
   "id": "6aa48a50-200b-498e-8708-1a50f35a125c",
   "metadata": {},
   "source": [
    "#### Model with Age and DBS as predictors"
   ]
  },
  {
   "cell_type": "code",
   "execution_count": null,
   "id": "1e3368d4-94af-4547-8702-b9b1ad33382a",
   "metadata": {},
   "outputs": [],
   "source": [
    "X = sm.add_constant(df[['DBS2', 'age']])\n",
    "y = df['n_rre']\n",
    "\n",
    "model = sm.OLS(y, X).fit()\n",
    "model.summary()"
   ]
  },
  {
   "cell_type": "markdown",
   "id": "5d054f7b-b312-41c2-a896-9e48d4e29e97",
   "metadata": {},
   "source": [
    "#### Model with only DBS2 as a predictor"
   ]
  },
  {
   "cell_type": "code",
   "execution_count": null,
   "id": "bb00e35f-9f17-4d90-baf0-e390938b67d0",
   "metadata": {},
   "outputs": [],
   "source": [
    "X = sm.add_constant(df[['DBS2']])\n",
    "y = df['n_rre']\n",
    "\n",
    "model = sm.OLS(y, X).fit()\n",
    "model.summary()"
   ]
  },
  {
   "cell_type": "markdown",
   "id": "d1697745-f121-495e-88d1-7175d00da6d9",
   "metadata": {},
   "source": [
    "#### Make PDFs"
   ]
  },
  {
   "cell_type": "code",
   "execution_count": null,
   "id": "8cbff72b-d922-4664-bcdd-504399ec2226",
   "metadata": {},
   "outputs": [],
   "source": [
    "pdf = PdfPages('data/plot/rREs_DBS2_regression.pdf')"
   ]
  },
  {
   "cell_type": "code",
   "execution_count": null,
   "id": "bb015abc-3089-47ac-bf75-816d3eeabea3",
   "metadata": {},
   "outputs": [],
   "source": [
    "sns.set_theme(style='white')\n",
    "\n",
    "fig, ax = plt.subplots()\n",
    "\n",
    "df['DBS2+age_var'] = -0.0040 * df['DBS2'] + 0.0649 * df['age'] + 0.8133\n",
    "\n",
    "sns.regplot(x='DBS2+age_var', y='n_rre', data=df, ax=ax, color='black', scatter_kws={'color': 'grey'}, ci=None)\n",
    "ax.set_ylabel('True No. of rREs')\n",
    "\n",
    "ax.set_title('r^2=0.120')\n",
    "ax.set_xlabel('Predicted No. of rRES\\n(-0.0040 * DBS2 + 0.0649 * Age + 0.8133)')\n",
    "\n",
    "sns.despine()\n",
    "\n",
    "ax.set_ylim(0, 25)\n",
    "fig.tight_layout()\n",
    "\n",
    "pdf.savefig()"
   ]
  },
  {
   "cell_type": "code",
   "execution_count": null,
   "id": "9d2d8556-c9d3-4425-b5b2-8bf8ab0da46a",
   "metadata": {},
   "outputs": [],
   "source": [
    "sns.set_theme(style='white')\n",
    "\n",
    "fig, ax = plt.subplots()\n",
    "\n",
    "sns.regplot(x='DBS2', y='n_rre', data=df, ax=ax, color='black', scatter_kws={'color': 'grey'}, ci=None)\n",
    "ax.set_ylabel('No. of rREs')\n",
    "ax.set_xlabel('DBS')\n",
    "\n",
    "ax.set_title('r^2=0.095')\n",
    "\n",
    "sns.despine()\n",
    "\n",
    "ax.set_ylim(0, 25)\n",
    "\n",
    "pdf.savefig()"
   ]
  },
  {
   "cell_type": "code",
   "execution_count": null,
   "id": "e12bcc55-3737-4e9d-9529-21d07c064a30",
   "metadata": {},
   "outputs": [],
   "source": [
    "pdf.close()"
   ]
  },
  {
   "cell_type": "markdown",
   "id": "d0d3999f-554d-46f3-a589-13fa28a218d5",
   "metadata": {},
   "source": [
    "### (5D) Correlation of rREs with Mutational Signatures Excluding Lung-SCC rRE"
   ]
  },
  {
   "cell_type": "code",
   "execution_count": null,
   "id": "504e4c28-0777-4316-942e-45ae7d9e2338",
   "metadata": {},
   "outputs": [],
   "source": [
    "pdf = PdfPages('data/plot/rREs_DBS2_regression_wo_lung.pdf')"
   ]
  },
  {
   "cell_type": "code",
   "execution_count": null,
   "id": "105e8fd5-40a0-4675-bfd6-ba4c567ae4f4",
   "metadata": {},
   "outputs": [],
   "source": [
    "df = df[df['cancer'] != 'Lung-SCC']"
   ]
  },
  {
   "cell_type": "code",
   "execution_count": null,
   "id": "71664e6e-fb2d-44c9-88ce-745052bae651",
   "metadata": {},
   "outputs": [],
   "source": [
    "sns.set_theme(style='white')\n",
    "\n",
    "fig, ax = plt.subplots()\n",
    "\n",
    "df['DBS2+age_var'] = 0.0003 * df['DBS2'] + 0.0619 * df['age'] + 0.7879\n",
    "\n",
    "sns.regplot(x='DBS2+age_var', y='n_rre', data=df, ax=ax, color='black', scatter_kws={'color': 'grey'}, ci=None)\n",
    "ax.set_ylabel('True No. of rREs')\n",
    "\n",
    "ax.set_xlabel('Predicted No. of rRES\\n(0.0003 * DBS2 + 0.0619 * Age + 0.7879)')\n",
    "ax.set_title('r^2=0.025')\n",
    "\n",
    "sns.despine()\n",
    "\n",
    "ax.set_ylim(0, 25)\n",
    "fig.tight_layout()\n",
    "\n",
    "pdf.savefig()"
   ]
  },
  {
   "cell_type": "code",
   "execution_count": null,
   "id": "96c5fab7-f6a2-4752-bbc9-89b158be2820",
   "metadata": {},
   "outputs": [],
   "source": [
    "sns.set_theme(style='white')\n",
    "\n",
    "fig, ax = plt.subplots()\n",
    "\n",
    "sns.regplot(x='DBS2', y='n_rre', data=df, ax=ax, color='black', scatter_kws={'color': 'grey'}, ci=None)\n",
    "ax.set_ylabel('No. of rREs')\n",
    "ax.set_xlabel('DBS')\n",
    "\n",
    "ax.set_title('r^2=0.002')\n",
    "\n",
    "sns.despine()\n",
    "\n",
    "ax.set_ylim(0, 25)\n",
    "\n",
    "pdf.savefig()"
   ]
  },
  {
   "cell_type": "markdown",
   "id": "2082022b-b0fb-410d-bf82-fe94056fe915",
   "metadata": {},
   "source": [
    "### (6B) Replication timing"
   ]
  },
  {
   "cell_type": "code",
   "execution_count": null,
   "id": "897985c9-9016-48fe-9af1-76bd4f6433e3",
   "metadata": {},
   "outputs": [],
   "source": [
    "!module load bedtools && bedtools intersect -a data/input/replication_timing.bed -b data/input/rre.bed > data/output/rre_repl_time.bed"
   ]
  },
  {
   "cell_type": "code",
   "execution_count": null,
   "id": "8dc383b4-f343-4678-8b0f-24aaa2b52699",
   "metadata": {},
   "outputs": [],
   "source": [
    "!module load bedtools && bedtools intersect -a data/input/replication_timing.bed -b data/input/simplerepeats_clean.sorted.bed > data/output/simplerepeats_repl_time.bed"
   ]
  },
  {
   "cell_type": "code",
   "execution_count": null,
   "id": "80bf514f-4a6d-4978-9382-f0ec1992046d",
   "metadata": {},
   "outputs": [],
   "source": [
    "re = pd.read_csv(\"data/output/rre_repl_time.bed\", sep='\\t', header=None, names=['chr', 'start', 'stop', 'timing'])\n",
    "simple = pd.read_csv('data/output/simplerepeats_repl_time.bed', sep='\\t', header=None, names=['chr', 'start', 'stop', 'timing'])"
   ]
  },
  {
   "cell_type": "code",
   "execution_count": null,
   "id": "47c520ac-be60-4658-b6df-0a03cc43ec58",
   "metadata": {},
   "outputs": [],
   "source": [
    "re['type'] = 'rREs'\n",
    "simple['type'] = 'Simple Repeats'"
   ]
  },
  {
   "cell_type": "code",
   "execution_count": null,
   "id": "d59a5cd6-5a20-4fc6-9afb-4c35b152f5a6",
   "metadata": {},
   "outputs": [],
   "source": [
    "raw_data_arr = [simple, re]\n",
    "raw_data = pd.concat(raw_data_arr)"
   ]
  },
  {
   "cell_type": "code",
   "execution_count": null,
   "id": "c0e5d409-3fab-48e4-b7ac-abd09c21d053",
   "metadata": {},
   "outputs": [],
   "source": [
    "raw_data = raw_data[raw_data['timing'] != 'Undetermined']"
   ]
  },
  {
   "cell_type": "code",
   "execution_count": null,
   "id": "ec3ae63d-1632-4dd1-9848-22dea26fe721",
   "metadata": {},
   "outputs": [],
   "source": [
    "data = raw_data[['type', 'timing']].groupby(['type', 'timing']).size().reset_index(name='count')"
   ]
  },
  {
   "cell_type": "code",
   "execution_count": null,
   "id": "b6120bc7-e2a6-495d-84a0-deed8dccd567",
   "metadata": {},
   "outputs": [],
   "source": [
    "for t in list(data['type'].unique()):\n",
    "    subset = data[data['type'] == t]\n",
    "    total = subset['count'].sum()\n",
    "    data.loc[data['type'] == t, 'pct'] = data['count'] / total\n",
    "\n",
    "data['pct'] *= 100\n",
    "data.head()"
   ]
  },
  {
   "cell_type": "code",
   "execution_count": null,
   "id": "dc09df07-303b-452d-aa42-b590d3bce87b",
   "metadata": {},
   "outputs": [],
   "source": [
    "early = data[data['timing'] == 'Early']\n",
    "late = data[data['timing'] == 'Late']\n",
    "\n",
    "first = early[['type', 'pct']].copy().reset_index()\n",
    "\n",
    "second = late[['type', 'pct']].copy().reset_index()\n",
    "second['pct'] += first['pct']"
   ]
  },
  {
   "cell_type": "code",
   "execution_count": null,
   "id": "1b3d09fa-fa03-4ebc-94b2-6723516fae83",
   "metadata": {},
   "outputs": [],
   "source": [
    "pdf = PdfPages('data/plot/2022-10-14-distribution_repl_time.pdf') "
   ]
  },
  {
   "cell_type": "code",
   "execution_count": null,
   "id": "71406103-f9e0-4910-803a-1feec44e469f",
   "metadata": {},
   "outputs": [],
   "source": [
    "fig, ax = plt.subplots()\n",
    "\n",
    "palette = sns.color_palette('bright')\n",
    "\n",
    "colors = [palette[7], palette[1], palette[2], 'white']\n",
    "\n",
    "order = ['Simple Repeats', 'rREs']\n",
    "\n",
    "sns.barplot(x='type', y='pct', data=second, color=colors[1], edgecolor=colors[3], order=order, ax=ax)\n",
    "sns.barplot(x='type', y='pct', data=first, color=colors[2], edgecolor=colors[3], order=order, ax=ax)\n",
    "\n",
    "late_patch = matplotlib.patches.Patch(color=colors[1], label='Late')\n",
    "early_patch = matplotlib.patches.Patch(color=colors[2], label='Early')\n",
    "\n",
    "ax.legend(handles=[late_patch, early_patch])\n",
    "\n",
    "\n",
    "fig.suptitle('Distriubtion of Replication Timing')\n",
    "ax.set_xlabel('')\n",
    "ax.set_ylabel('Percentage (%)')\n",
    "\n",
    "pdf.savefig(transparent=True)"
   ]
  },
  {
   "cell_type": "code",
   "execution_count": null,
   "id": "1218e498-c2c0-47c5-a704-10482eb9f7f2",
   "metadata": {},
   "outputs": [],
   "source": [
    "# Bootstrap p-value\n",
    "np.random.seed(1)\n",
    "\n",
    "N = 10000\n",
    "n_sample_each_time = 35+19 # No. of repeat expansions that are either early or late\n",
    "\n",
    "obs_early_count = data.loc[(data['type'] == 'rREs') & (data['timing'] == 'Early'), 'count'].iloc[0]\n",
    "obs_late_count = data.loc[(data['type'] == 'rREs') & (data['timing'] == 'Late'), 'count'].iloc[0]\n",
    "\n",
    "exp_early_count = data.loc[(data['type'] == 'Simple Repeats') & (data['timing'] == 'Early'), 'count'].iloc[0]\n",
    "exp_late_count = data.loc[(data['type'] == 'Simple Repeats') & (data['timing'] == 'Late'), 'count'].iloc[0]\n",
    "\n",
    "# Probability of observing \"early region\" for repeat expansions (observation) and simple repeats (expected)\n",
    "p_observed = obs_early_count / (obs_early_count + obs_late_count)\n",
    "p_expected = exp_early_count / (exp_early_count + exp_late_count)\n",
    "\n",
    "chi_p_values = np.zeros(N)\n",
    "chi_cumulative = np.zeros(N)\n",
    "\n",
    "t_p_values = np.zeros(N)\n",
    "t_cumulative = np.zeros(N)\n",
    "\n",
    "for i in range(N):\n",
    "    # Take 'n_sample_each_time' samples and record how many of them are \"early regions\" and how many are \"late\"\n",
    "    n_early_obs = np.random.binomial(n_sample_each_time, p_observed)\n",
    "    n_early_exp = np.random.binomial(n_sample_each_time, p_expected)\n",
    "    n_late_obs = n_sample_each_time - n_early_obs\n",
    "    n_late_exp = n_sample_each_time - n_early_exp\n",
    "    \n",
    "    # Calculate a chisqure p_value of observering these frequencies\n",
    "    _, p_value = stats.chisquare([n_early_obs, n_late_obs], f_exp=[n_early_exp, n_late_exp])\n",
    "    chi_p_values[i] = p_value\n",
    "    chi_cumulative[i] = np.mean(chi_p_values[:i+1])\n",
    "    \n",
    "    # Calculate a ttest p-value\n",
    "    obs_distribtion = np.zeros(n_sample_each_time)\n",
    "    exp_distribtion = np.zeros(n_sample_each_time)\n",
    "    \n",
    "    obs_distribtion[:n_early_obs] = 1\n",
    "    exp_distribtion[:n_early_exp] = 1\n",
    "    \n",
    "    _, p_value = stats.ttest_ind(obs_distribtion, exp_distribtion, equal_var=False)\n",
    "    t_p_values[i] = p_value\n",
    "    t_cumulative[i] = np.mean(t_p_values[:i+1])\n",
    "    \n",
    "    \n",
    "t_cumulative[N-1], chi_cumulative[N-1]"
   ]
  },
  {
   "cell_type": "code",
   "execution_count": null,
   "id": "1dfba0f0-08af-42cd-a632-61460d2411d1",
   "metadata": {},
   "outputs": [],
   "source": [
    "sns.scatterplot(x=np.arange(N), y=t_cumulative)"
   ]
  },
  {
   "cell_type": "code",
   "execution_count": null,
   "id": "ce0a4da7-b91d-4e03-bbe2-109d8ef3c16b",
   "metadata": {},
   "outputs": [],
   "source": [
    "sns.scatterplot(x=np.arange(N), y=chi_cumulative)"
   ]
  },
  {
   "cell_type": "code",
   "execution_count": null,
   "id": "b9a411c8-1d0b-44a5-a922-44c0451c2be1",
   "metadata": {},
   "outputs": [],
   "source": [
    "fig = plt.figure()\n",
    "fig.clf()\n",
    "\n",
    "text = 'Bootstrapped chi-square test p-value: {:e}\\n'.format(chi_cumulative[N-1])\n",
    "text += 'Bootstrapped student t-test p-value: {:e}\\n'.format(t_cumulative[N-1])\n",
    "\n",
    "\n",
    "fig.text(0.5,0.5, text, transform=fig.transFigure, size=12, ha='center')\n",
    "pdf.savefig()\n",
    "plt.close()"
   ]
  },
  {
   "cell_type": "code",
   "execution_count": null,
   "id": "0163be2c-52a9-41ad-b289-0ee3283b3556",
   "metadata": {},
   "outputs": [],
   "source": [
    "pdf.close()"
   ]
  },
  {
   "cell_type": "markdown",
   "id": "1f2ff058-35b4-4a67-8410-447ceeb20135",
   "metadata": {},
   "source": [
    "### (7A) Overlap of rREs with published datasets"
   ]
  },
  {
   "cell_type": "code",
   "execution_count": null,
   "id": "48dd90bc-39e6-426a-ba4f-b97fb6056486",
   "metadata": {},
   "outputs": [],
   "source": [
    "park = pd.read_table('data/input/published-datasets/Park-Top-1000-recurrently-altered-MSs-Suppleementary-Data-14-41467_2017_BFncomms15180_MOESM272_ESM (1).xls')\n",
    "park = park[['CHR', 'START', 'END']]\n",
    "park.columns = ['chr', 'start', 'stop']\n",
    "park = park.drop_duplicates(ignore_index=True)\n",
    "\n",
    "# park.head()"
   ]
  },
  {
   "cell_type": "code",
   "execution_count": null,
   "id": "dbefadd8-7668-43bf-ae3a-729d0556c713",
   "metadata": {},
   "outputs": [],
   "source": [
    "mischel = pd.read_csv('data/input/published-datasets/Mischel-Data-Supplementary-Table-1-41586_2019_1763_MOESM3_ESM.csv')\n",
    "mischel = mischel[['Chr', 'Start', 'End']]\n",
    "mischel.columns = ['chr', 'start', 'stop']\n",
    "\n",
    "mischel = mischel.dropna()\n",
    "mischel['chr'] = 'chr' + mischel['chr'].astype('int').astype('str')\n",
    "mischel['start'] = mischel['start'].astype('int')\n",
    "mischel['stop'] = mischel['stop'].astype('int')\n",
    "\n",
    "mischel = mischel.drop_duplicates(ignore_index=True)\n",
    "\n",
    "# mischel.head()"
   ]
  },
  {
   "cell_type": "code",
   "execution_count": null,
   "id": "ed72a42e-809a-42b1-be92-6fdd9216aae8",
   "metadata": {},
   "outputs": [],
   "source": [
    "shendure = pd.read_excel('data/input/published-datasets/Hause-Shendure-Supplementary-Table-10-MSI-H-cancer-specific-instability-loci-41591_2016_BFnm4191_MOESM30_ESM.xlsx')\n",
    "shendure[['chr', 'pos']] = shendure['locus'].str.split(':', n=2, expand=True)\n",
    "shendure[['start', 'stop']] = shendure['pos'].str.split('-', n=2, expand=True)\n",
    "\n",
    "shendure = shendure[['chr', 'start', 'stop']]\n",
    "\n",
    "shendure['chr'] = 'chr' + shendure['chr'].astype('str')\n",
    "shendure['start'] = shendure['start'].astype('int')\n",
    "shendure['stop'] = shendure['stop'].astype('int')\n",
    "\n",
    "shendure = shendure.drop_duplicates(ignore_index=True)\n",
    "\n",
    "# shendure.head()"
   ]
  },
  {
   "cell_type": "code",
   "execution_count": null,
   "id": "c4fca4c5-6db8-465b-ac38-bf0cfcf1ec4c",
   "metadata": {},
   "outputs": [],
   "source": [
    "gymrek = pd.read_excel('data/input/published-datasets/Gymrek-Supplementary-Data-1-41588_2019_521_MOESM4_ESM.xlsx', sheet_name=1)\n",
    "gymrek = gymrek[['chrom', 'str.start', 'str.end']]\n",
    "gymrek.columns = ['chr', 'start', 'stop']\n",
    "\n",
    "gymrek = gymrek.drop_duplicates(ignore_index=True)\n",
    "\n",
    "# gymrek.head()"
   ]
  },
  {
   "cell_type": "code",
   "execution_count": null,
   "id": "ff1a07fa-e3d0-474a-934a-d957693a303c",
   "metadata": {},
   "outputs": [],
   "source": [
    "dutta = None\n",
    "\n",
    "import glob\n",
    "for path in glob.glob('data/input/published-datasets/GSM*'):\n",
    "    df = pd.read_table(path, skiprows=1, header=None)\n",
    "    if dutta is not None:\n",
    "        dutta = pd.concat([dutta, df], ignore_index=True)\n",
    "    else:\n",
    "        dutta = df\n",
    "\n",
    "dutta.columns = ['chr', 'start', 'stop', 'abundance']\n",
    "dutta = dutta[['chr', 'start', 'stop']]\n",
    "dutta = dutta.drop_duplicates(ignore_index=True)\n",
    "\n",
    "# dutta.head()"
   ]
  },
  {
   "cell_type": "markdown",
   "id": "d41fbd1e-0e2a-413c-a2b2-3c5fb6904b5d",
   "metadata": {},
   "source": [
    "#### Export bed files"
   ]
  },
  {
   "cell_type": "code",
   "execution_count": null,
   "id": "40f09200-d6c6-488c-9f34-dca575a1f679",
   "metadata": {},
   "outputs": [],
   "source": [
    "dfs = [park, mischel, shendure, gymrek, dutta]\n",
    "labels = ['Park', 'Mischel', 'Shendure', 'Gymrek', 'Dutta']"
   ]
  },
  {
   "cell_type": "code",
   "execution_count": null,
   "id": "2d1d5b01-0db7-45ca-8963-026c185db6d6",
   "metadata": {},
   "outputs": [],
   "source": [
    "for i in range(len(dfs)):\n",
    "    dfs[i].to_csv(f'data/input/published-datasets/bed/{labels[i]}.bed', header=None, sep='\\t', index=False)"
   ]
  },
  {
   "cell_type": "code",
   "execution_count": null,
   "id": "18307095-d38b-440c-8864-e7ddf775193b",
   "metadata": {},
   "outputs": [],
   "source": [
    "for f in labels:\n",
    "    !sort -k1,1 -k2,2n data/input/published-datasets/bed/{f}.bed > data/input/published-datasets/bed/{f}.sorted.bed "
   ]
  },
  {
   "cell_type": "markdown",
   "id": "560c8938-cc8f-4a2e-b188-373fdd6b1038",
   "metadata": {},
   "source": [
    "#### Run bedtools"
   ]
  },
  {
   "cell_type": "code",
   "execution_count": null,
   "id": "49107f5e-9ca6-4319-bfec-56fa59fb4223",
   "metadata": {},
   "outputs": [],
   "source": [
    "for f in labels:\n",
    "    !bedtools intersect -sorted -u -b data/input/rre.bed -a data/input/published-datasets/bed/{f}.sorted.bed > data/output/{f}-rre-overlap.bed "
   ]
  },
  {
   "cell_type": "markdown",
   "id": "273e47e6-f384-4e87-a342-4117fd0c8bcf",
   "metadata": {},
   "source": [
    "#### Extract percent overlap"
   ]
  },
  {
   "cell_type": "code",
   "execution_count": null,
   "id": "b204a0f3-e8b1-4d54-b133-df3104f03880",
   "metadata": {},
   "outputs": [],
   "source": [
    "from pandas.errors import EmptyDataError\n",
    "\n",
    "pct = [-1] * len(labels)\n",
    "for i in range(len(labels)):\n",
    "    try:\n",
    "        df = pd.read_table(f'data/output/{labels[i]}-rre-overlap.bed', header=None)\n",
    "        pct[i] = len(df) / len(RRE)\n",
    "    except EmptyDataError as e:\n",
    "        pct[i] = 0\n",
    "\n",
    "pct"
   ]
  },
  {
   "cell_type": "markdown",
   "id": "a6ea6fa0-4051-4bce-9176-5476c4064316",
   "metadata": {},
   "source": [
    "#### Plot"
   ]
  },
  {
   "cell_type": "code",
   "execution_count": null,
   "id": "1a97d7c0-d520-4b9d-8725-efc84d2e8ad5",
   "metadata": {},
   "outputs": [],
   "source": [
    "def change_width(ax, new_value) :\n",
    "    for patch in ax.patches :\n",
    "        current_width = patch.get_width()\n",
    "        diff = current_width - new_value\n",
    "\n",
    "        # we change the bar width\n",
    "        patch.set_width(new_value)\n",
    "\n",
    "        # we recenter the bar\n",
    "        patch.set_x(patch.get_x() + diff * .5)"
   ]
  },
  {
   "cell_type": "code",
   "execution_count": null,
   "id": "65c0657e-bee8-42a8-8138-dad612854b67",
   "metadata": {},
   "outputs": [],
   "source": [
    "data = pd.DataFrame({'catalog': labels, 'pct': pct})"
   ]
  },
  {
   "cell_type": "code",
   "execution_count": null,
   "id": "cb389236-6103-412e-9765-7874f7b2a22c",
   "metadata": {},
   "outputs": [],
   "source": [
    "data"
   ]
  },
  {
   "cell_type": "code",
   "execution_count": null,
   "id": "bd66ded4-6429-4121-878a-5b08fa9257ed",
   "metadata": {},
   "outputs": [],
   "source": [
    "pdf = PdfPages(f'data/plot/2022-10-14-published-catalog-overlap.pdf')\n",
    "\n",
    "ax = sns.barplot(x='catalog', y='pct', data=data, color='black')\n",
    "ax.set_xlabel('')\n",
    "ax.set_ylabel('Percent Overlap')\n",
    "ax.grid(False)\n",
    "ax.set_ylim(0, 1)\n",
    "sns.despine(ax=ax, top=True, right=True)\n",
    "change_width(ax, .35)\n",
    "pdf.savefig()\n",
    "\n",
    "pdf.close()"
   ]
  },
  {
   "cell_type": "markdown",
   "id": "246eda23-2b36-4f0e-a331-fa05610fc23e",
   "metadata": {},
   "source": [
    "### (7C) Distance to Nearest cCRE (separated by cCRE type)"
   ]
  },
  {
   "cell_type": "code",
   "execution_count": null,
   "id": "64e5d15e-8161-4251-8786-043be26e246f",
   "metadata": {},
   "outputs": [],
   "source": [
    "rre_distance = pd.read_table(\"data/output/closest_rre_ccre.bed\", header=None)\n",
    "simple_distance = pd.read_table(\"data/output/closest_simplerepeats_ccre.bed\", header=None)\n",
    "\n",
    "# Extract distance column from bedtools output\n",
    "type_col = 8\n",
    "distance_col = 9\n",
    "rre_distance = rre_distance[[distance_col, type_col]].rename({distance_col: \"distance\", type_col: \"ccre\"}, axis=\"columns\")\n",
    "simple_distance = simple_distance[[distance_col, type_col]].rename({distance_col: \"distance\", type_col: \"ccre\"}, axis=\"columns\")\n",
    "\n",
    "rre_distance[\"type\"] = \"rREs\"\n",
    "simple_distance[\"type\"] = \"Simple Repeats\"\n",
    "\n",
    "# Convert distance to kbp\n",
    "rre_distance[\"distance\"] = rre_distance[\"distance\"] / 10**3\n",
    "simple_distance[\"distance\"] = simple_distance[\"distance\"] / 10**3\n",
    "\n",
    "simple_distance = simple_distance[simple_distance[\"distance\"] < 25000]\n",
    "\n",
    "# Merge the two dataframes\n",
    "data = pd.concat([rre_distance, simple_distance], ignore_index=True)"
   ]
  },
  {
   "cell_type": "code",
   "execution_count": null,
   "id": "6175596b-7100-46ea-90f7-735af7e75f22",
   "metadata": {},
   "outputs": [],
   "source": [
    "pdf = PdfPages(\"data/plot/2022-10-17-distance-to-nearest-ccre-by-type.pdf\")\n",
    "\n",
    "fig, ax = plt.subplots()\n",
    "sns.boxplot(x=\"type\", y=\"distance\", order=[\"Simple Repeats\", \"rREs\"], hue=\"ccre\", showfliers=False, width=0.4, data=data, ax=ax)\n",
    "ax.set_title(f\"Distance to Nearest cCRE\")\n",
    "ax.set_xlabel(\"\")\n",
    "ax.set_ylabel(\"Distance (kbp)\")\n",
    "\n",
    "sns.despine()\n",
    "# plt.setp(ax.artists, edgecolor = 'k', facecolor='w')\n",
    "# plt.setp(ax.lines, color='k')\n",
    "ax.grid(False)\n",
    "plt.tight_layout()\n",
    "\n",
    "pdf.savefig(transparent=True)\n",
    "pdf.close()"
   ]
  },
  {
   "cell_type": "markdown",
   "id": "6e5173f4-4d38-4dc0-bd17-dfb79eef1c48",
   "metadata": {},
   "source": [
    "### (8C) UGT2B7 Survival"
   ]
  },
  {
   "cell_type": "code",
   "execution_count": null,
   "id": "44f86ee4-c509-4e76-a946-6f0225dc2f8e",
   "metadata": {},
   "outputs": [],
   "source": [
    "paired_path = \"data/input/ugt2b7_survival/Kidney-RCC_clinic_paired_AAAG_4_69929297_69930148.txt\"\n",
    "donor_path = \"data/input/ugt2b7_survival/Kidney-RCC_donor.tsv\""
   ]
  },
  {
   "cell_type": "code",
   "execution_count": null,
   "id": "6852ba64-001f-4889-97de-29e3f4f8b7bf",
   "metadata": {},
   "outputs": [],
   "source": [
    "pdf = PdfPages('data/plot/ugt2b7_survival.pdf')"
   ]
  },
  {
   "cell_type": "code",
   "execution_count": null,
   "id": "7e3c98f6-bef9-4202-b658-13831d740cfc",
   "metadata": {},
   "outputs": [],
   "source": [
    "paired = pd.read_csv(paired_path, sep='\\t')\n",
    "donor = pd.read_csv(donor_path, sep='\\t')\n",
    "donor.rename({'icgc_donor_id': 'case_id'}, axis='columns', inplace=True)\n",
    "paired = paired.merge(donor, how='left', on='case_id')\n",
    "\n",
    "meta = {\n",
    "    \"chr\": \"chr4\",\n",
    "    \"start\": \"69929297\",\n",
    "    \"stop\": \"69930148\"\n",
    "}\n",
    "\n",
    "paired = paired[~paired['donor_survival_time'].isna() & ~paired['donor_vital_status'].isna()]\n",
    "\n",
    "exp = paired[paired['exp'] == 'Yes']\n",
    "exp_time = paired['donor_survival_time'].astype(int).values\n",
    "exp_status = (paired['donor_vital_status'] == 'alive').astype(int).values\n",
    "\n",
    "no_exp = paired[paired['exp'] == 'No']\n",
    "no_exp_time = no_exp['donor_survival_time'].astype(int).values\n",
    "no_exp_status = (no_exp['donor_vital_status'] == 'alive').astype(int).values\n",
    "\n",
    "# Fit model for expansion\n",
    "kmf_exp = KaplanMeierFitter() \n",
    "kmf_exp.fit(exp_time, exp_status, label='Expansion (n = %d)' % exp.shape[0])\n",
    "\n",
    "# Fit model for no expansion\n",
    "kmf_no_exp = KaplanMeierFitter() \n",
    "kmf_no_exp.fit(no_exp_time, no_exp_status, label='No Expansion (n = %d)' % no_exp.shape[0])\n",
    "\n",
    "stats = logrank_test(exp_time, no_exp_time, exp_status, no_exp_status)\n",
    "\n",
    "fig, ax = plt.subplots(figsize=(8, 6))\n",
    "\n",
    "ax = kmf_exp.plot(ci_show=False, ax=ax)\n",
    "ax = kmf_no_exp.plot(ci_show=False, ax=ax)\n",
    "\n",
    "stats = logrank_test(exp_time, no_exp_time, exp_status, no_exp_status)\n",
    "\n",
    "ax.set_xlabel('')\n",
    "add_at_risk_counts(kmf_exp, kmf_no_exp, ax=ax)\n",
    "title = [\n",
    "    'Kaplan Meier Curve (in days)',\n",
    "    'Repeat coordinates: {}: {}-{}'.format(meta['chr'], meta['start'], meta['stop']),\n",
    "    'p={:.4e}'.format(stats.p_value)\n",
    "]\n",
    "ax.set_title('\\n'.join(title))    \n",
    "plt.tight_layout(pad=5)\n",
    "\n",
    "pdf.savefig(fig)\n",
    "plt.close(fig)"
   ]
  },
  {
   "cell_type": "code",
   "execution_count": null,
   "id": "011e7518-21ba-4543-ad2f-032138be860e",
   "metadata": {},
   "outputs": [],
   "source": [
    "pdf.close()"
   ]
  }
 ],
 "metadata": {
  "kernelspec": {
   "display_name": "jupyter",
   "language": "python",
   "name": "jupyter"
  },
  "language_info": {
   "codemirror_mode": {
    "name": "ipython",
    "version": 3
   },
   "file_extension": ".py",
   "mimetype": "text/x-python",
   "name": "python",
   "nbconvert_exporter": "python",
   "pygments_lexer": "ipython3",
   "version": "3.9.6"
  }
 },
 "nbformat": 4,
 "nbformat_minor": 5
}
