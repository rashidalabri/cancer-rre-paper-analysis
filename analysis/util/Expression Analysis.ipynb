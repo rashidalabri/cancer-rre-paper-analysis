{
 "cells": [
  {
   "cell_type": "markdown",
   "id": "4df522e4",
   "metadata": {},
   "source": [
    "# UGT2B7 Isoform Expression Analysis"
   ]
  },
  {
   "cell_type": "code",
   "execution_count": null,
   "id": "1bf0e404",
   "metadata": {},
   "outputs": [],
   "source": [
    "install.packages(\"htmltools\")\n",
    "install.packages(\"BiocManager\")\n",
    "BiocManager::install(\"DESeq2\")"
   ]
  },
  {
   "cell_type": "code",
   "execution_count": null,
   "id": "06ac4f93",
   "metadata": {},
   "outputs": [],
   "source": [
    "library(htmltools)\n",
    "library( \"DESeq2\" )\n",
    "library(ggplot2)\n",
    "library(magrittr)\n",
    "library(tidyr)"
   ]
  },
  {
   "cell_type": "code",
   "execution_count": null,
   "id": "47b09591",
   "metadata": {},
   "outputs": [],
   "source": [
    "# CRAN\n",
    "library(dplyr)\n",
    "library(tidyr)\n",
    "library(ggplot2)\n",
    "theme_set(theme_bw(base_size=14) + theme(strip.background = element_blank()))\n",
    "\n",
    "# Bioconductor\n",
    "library(DESeq2)\n",
    "library(airway)"
   ]
  },
  {
   "cell_type": "code",
   "execution_count": null,
   "id": "206dec80",
   "metadata": {},
   "outputs": [],
   "source": [
    "countData <- read.csv(\"../data/input/pcawg.rnaseq.transcript.UGT2B7.expr.counts.csv\", header = TRUE, sep = \",\")\n",
    "head(countData)"
   ]
  },
  {
   "cell_type": "code",
   "execution_count": null,
   "id": "f82a8a80",
   "metadata": {},
   "outputs": [],
   "source": [
    "metaData <- read.csv('../data/input/ugt2b7_expr_metadata.csv', header = TRUE, sep = \",\")\n",
    "head(metaData)"
   ]
  },
  {
   "cell_type": "code",
   "execution_count": null,
   "id": "1de6d7f9",
   "metadata": {},
   "outputs": [],
   "source": [
    "dds <- DESeqDataSetFromMatrix(countData=countData, \n",
    "                              colData=metaData, \n",
    "                              design=~exp, tidy = TRUE)"
   ]
  },
  {
   "cell_type": "code",
   "execution_count": null,
   "id": "42adafe9",
   "metadata": {},
   "outputs": [],
   "source": [
    "dds <- estimateSizeFactors(dds)\n",
    "dds <- estimateDispersionsGeneEst(dds)\n",
    "dispersions(dds) <- mcols(dds)$dispGeneEst\n",
    "dds <- nbinomWaldTest(dds)"
   ]
  },
  {
   "cell_type": "code",
   "execution_count": null,
   "id": "0012364c-8c6f-4f0f-a672-c44cb08ccdf6",
   "metadata": {},
   "outputs": [],
   "source": [
    "res <- results(dds)"
   ]
  },
  {
   "cell_type": "code",
   "execution_count": null,
   "id": "8e5a3b6f-977b-4abf-8a8b-d2a05d4ea2ac",
   "metadata": {},
   "outputs": [],
   "source": [
    "res"
   ]
  },
  {
   "cell_type": "code",
   "execution_count": null,
   "id": "e27a5a07",
   "metadata": {},
   "outputs": [],
   "source": [
    "pdf(file = \"output/plot/exp_UGT2B7.pdf\",   # The directory you want to save the file in\n",
    "    width = 6, # The width of the plot in inches\n",
    "    height = 4)\n",
    "\n",
    "par(mfrow=c(1,3))\n",
    "\n",
    "plotCounts(dds, gene=\"ENST00000508661.1\", intgroup=\"exp\")\n",
    "plotCounts(dds, gene=\"ENST00000305231.7\", intgroup=\"exp\")\n",
    "plotCounts(dds, gene=\"ENST00000502942.1\", intgroup=\"exp\")\n",
    "\n",
    "dev.off()"
   ]
  },
  {
   "cell_type": "code",
   "execution_count": null,
   "id": "19d5a389",
   "metadata": {},
   "outputs": [],
   "source": [
    "goi <- c('ENST00000508661.1', 'ENST00000305231.7', 'ENST00000502942.1')"
   ]
  },
  {
   "cell_type": "code",
   "execution_count": null,
   "id": "e0386beb",
   "metadata": {},
   "outputs": [],
   "source": [
    "# tcounts <- t(log2((counts(dds[goi, ], normalized=TRUE, replaced=FALSE)+.5))) %>%\n",
    "#   merge(colData(dds), ., by=\"row.names\") %>%\n",
    "#   gather(gene, expression, (ncol(.)-length(goi)+1):ncol(.))"
   ]
  },
  {
   "cell_type": "code",
   "execution_count": null,
   "id": "57c3f3e7-dbd9-4eab-ba06-472bc66560f0",
   "metadata": {},
   "outputs": [],
   "source": [
    "tcounts <- t((counts(dds[goi, ], normalized=TRUE, replaced=FALSE))) %>%\n",
    "  merge(colData(dds), ., by=\"row.names\") %>%\n",
    "  gather(gene, expression, (ncol(.)-length(goi)+1):ncol(.))"
   ]
  },
  {
   "cell_type": "code",
   "execution_count": null,
   "id": "9d137f59",
   "metadata": {},
   "outputs": [],
   "source": [
    "tcounts %>% \n",
    "  select(Row.names, exp, gene, expression) %>% \n",
    "  head"
   ]
  },
  {
   "cell_type": "code",
   "execution_count": null,
   "id": "d3d9974a",
   "metadata": {},
   "outputs": [],
   "source": [
    "pdf(file = \"output/plot/exp_UGT2B7_box_linear.pdf\",   # The directory you want to save the file in\n",
    "    width = 6, # The width of the plot in inches\n",
    "    height = 4)\n",
    "\n",
    "ggplot(tcounts, aes(exp, expression)) + \n",
    "  geom_boxplot() + \n",
    "  facet_wrap(~gene, scales=\"free_y\") + \n",
    "  labs(x=\"rRE Expanded\", \n",
    "       y=\"Expression (log normalized counts)\")\n",
    "\n",
    "\n",
    "\n",
    "dev.off()"
   ]
  },
  {
   "cell_type": "code",
   "execution_count": null,
   "id": "00cbda3a",
   "metadata": {},
   "outputs": [],
   "source": [
    "pdf(file = \"output/plot/exp_UGT2B7_violin.pdf\",   # The directory you want to save the file in\n",
    "    width = 6, # The width of the plot in inches\n",
    "    height = 4)\n",
    "\n",
    "ggplot(tcounts, aes(exp, expression)) + \n",
    "  geom_violin() + \n",
    "  facet_wrap(~gene, scales=\"free_y\") + \n",
    "  labs(x=\"rRE Expanded\", \n",
    "       y=\"Expression (log normalized counts)\")\n",
    "\n",
    "dev.off()"
   ]
  }
 ],
 "metadata": {
  "kernelspec": {
   "display_name": "R",
   "language": "R",
   "name": "ir"
  },
  "language_info": {
   "codemirror_mode": "r",
   "file_extension": ".r",
   "mimetype": "text/x-r-source",
   "name": "R",
   "pygments_lexer": "r",
   "version": "4.1.0"
  }
 },
 "nbformat": 4,
 "nbformat_minor": 5
}
