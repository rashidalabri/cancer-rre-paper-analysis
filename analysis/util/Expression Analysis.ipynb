{
 "cells": [
  {
   "cell_type": "markdown",
   "id": "4df522e4",
   "metadata": {},
   "source": [
    "# UGT2B7 Isoform Expression Analysis"
   ]
  },
  {
   "cell_type": "code",
   "execution_count": null,
   "id": "1bf0e404",
   "metadata": {},
   "outputs": [],
   "source": [
    "install.packages(\"htmltools\")\n",
    "install.packages(\"BiocManager\")\n",
    "BiocManager::install(\"DESeq2\")"
   ]
  },
  {
   "cell_type": "code",
   "execution_count": 27,
   "id": "06ac4f93",
   "metadata": {},
   "outputs": [],
   "source": [
    "library(htmltools)\n",
    "library( \"DESeq2\" )\n",
    "library(ggplot2)\n",
    "library(magrittr)\n",
    "library(tidyr)"
   ]
  },
  {
   "cell_type": "code",
   "execution_count": 28,
   "id": "47b09591",
   "metadata": {},
   "outputs": [
    {
     "ename": "ERROR",
     "evalue": "Error in library(airway): there is no package called ‘airway’\n",
     "output_type": "error",
     "traceback": [
      "Error in library(airway): there is no package called ‘airway’\nTraceback:\n",
      "1. library(airway)"
     ]
    }
   ],
   "source": [
    "# CRAN\n",
    "library(dplyr)\n",
    "library(tidyr)\n",
    "library(ggplot2)\n",
    "theme_set(theme_bw(base_size=14) + theme(strip.background = element_blank()))\n",
    "\n",
    "# Bioconductor\n",
    "library(DESeq2)\n",
    "library(airway)"
   ]
  },
  {
   "cell_type": "code",
   "execution_count": 80,
   "id": "206dec80",
   "metadata": {},
   "outputs": [
    {
     "data": {
      "text/html": [
       "<table class=\"dataframe\">\n",
       "<caption>A data.frame: 3 × 50</caption>\n",
       "<thead>\n",
       "\t<tr><th></th><th scope=col>Feature</th><th scope=col>ca74074b.a75c.434c.82dc.e7b112d192ef</th><th scope=col>X910c8543.cc94.4499.82fe.365c24eac5b1</th><th scope=col>X22f1d19e.14f8.403e.9e48.663da7508bf2</th><th scope=col>f59f0b5c.a5ac.4859.a862.3425c623341d</th><th scope=col>fd0df2dd.fa09.4ec1.8996.c6c6aca9c2a6</th><th scope=col>f4cc72cf.6f47.4ebc.a9ab.9ba15b6fa411</th><th scope=col>X91953b3b.e9ea.49be.a403.92d7a97e4ebc</th><th scope=col>d69871fb.9d93.4a3f.b4ea.f53de743b25f</th><th scope=col>X50db517a.a5c7.431e.9439.cb5cffb9b954</th><th scope=col>⋯</th><th scope=col>X4a68e62e.ae0a.4eeb.a87a.8c67db008b6b</th><th scope=col>X633ab3db.0f9a.468e.9185.9d4a9cd582ad</th><th scope=col>X2cdd6339.a1d6.4c7c.889e.6570c64de489</th><th scope=col>X2c767be0.1e3f.496f.9b43.1401a354b2a2</th><th scope=col>X1520b711.9fdb.4494.8229.b4664ca14d97</th><th scope=col>d170e848.cdad.494c.b23c.ac16634412e4</th><th scope=col>X512c7b15.19e7.435c.8981.57be0f1ffd58</th><th scope=col>X77b373e5.eed3.4b03.bd9a.3a553fb0fca6</th><th scope=col>ddb26106.900b.4080.a28b.59927df9d525</th><th scope=col>bdab7f7f.35cc.4560.a9a0.2263e62afa6c</th></tr>\n",
       "\t<tr><th></th><th scope=col>&lt;chr&gt;</th><th scope=col>&lt;int&gt;</th><th scope=col>&lt;int&gt;</th><th scope=col>&lt;int&gt;</th><th scope=col>&lt;int&gt;</th><th scope=col>&lt;int&gt;</th><th scope=col>&lt;int&gt;</th><th scope=col>&lt;int&gt;</th><th scope=col>&lt;int&gt;</th><th scope=col>&lt;int&gt;</th><th scope=col>⋯</th><th scope=col>&lt;int&gt;</th><th scope=col>&lt;int&gt;</th><th scope=col>&lt;int&gt;</th><th scope=col>&lt;int&gt;</th><th scope=col>&lt;int&gt;</th><th scope=col>&lt;int&gt;</th><th scope=col>&lt;int&gt;</th><th scope=col>&lt;int&gt;</th><th scope=col>&lt;int&gt;</th><th scope=col>&lt;int&gt;</th></tr>\n",
       "</thead>\n",
       "<tbody>\n",
       "\t<tr><th scope=row>1</th><td>ENST00000305231.7</td><td>3268</td><td>1983</td><td>2336</td><td>2148</td><td>4620</td><td>4111</td><td>3977</td><td>2524</td><td>7529</td><td>⋯</td><td>23628</td><td>8434</td><td>1448</td><td>1651</td><td>5672</td><td>2887</td><td>3332</td><td>5255</td><td>7079</td><td>879</td></tr>\n",
       "\t<tr><th scope=row>2</th><td>ENST00000508661.1</td><td>  75</td><td>  20</td><td> 345</td><td>  53</td><td> 188</td><td> 148</td><td>  88</td><td>  60</td><td> 543</td><td>⋯</td><td>  497</td><td> 277</td><td> 152</td><td>  47</td><td> 342</td><td>  50</td><td>  39</td><td>  82</td><td> 324</td><td> 57</td></tr>\n",
       "\t<tr><th scope=row>3</th><td>ENST00000502942.1</td><td>6856</td><td>3167</td><td>1376</td><td>1602</td><td>3463</td><td>6012</td><td>2119</td><td>2193</td><td>6285</td><td>⋯</td><td> 2118</td><td>6332</td><td> 533</td><td>2764</td><td>9667</td><td>1168</td><td>3314</td><td>5359</td><td>6730</td><td>982</td></tr>\n",
       "</tbody>\n",
       "</table>\n"
      ],
      "text/latex": [
       "A data.frame: 3 × 50\n",
       "\\begin{tabular}{r|lllllllllllllllllllll}\n",
       "  & Feature & ca74074b.a75c.434c.82dc.e7b112d192ef & X910c8543.cc94.4499.82fe.365c24eac5b1 & X22f1d19e.14f8.403e.9e48.663da7508bf2 & f59f0b5c.a5ac.4859.a862.3425c623341d & fd0df2dd.fa09.4ec1.8996.c6c6aca9c2a6 & f4cc72cf.6f47.4ebc.a9ab.9ba15b6fa411 & X91953b3b.e9ea.49be.a403.92d7a97e4ebc & d69871fb.9d93.4a3f.b4ea.f53de743b25f & X50db517a.a5c7.431e.9439.cb5cffb9b954 & ⋯ & X4a68e62e.ae0a.4eeb.a87a.8c67db008b6b & X633ab3db.0f9a.468e.9185.9d4a9cd582ad & X2cdd6339.a1d6.4c7c.889e.6570c64de489 & X2c767be0.1e3f.496f.9b43.1401a354b2a2 & X1520b711.9fdb.4494.8229.b4664ca14d97 & d170e848.cdad.494c.b23c.ac16634412e4 & X512c7b15.19e7.435c.8981.57be0f1ffd58 & X77b373e5.eed3.4b03.bd9a.3a553fb0fca6 & ddb26106.900b.4080.a28b.59927df9d525 & bdab7f7f.35cc.4560.a9a0.2263e62afa6c\\\\\n",
       "  & <chr> & <int> & <int> & <int> & <int> & <int> & <int> & <int> & <int> & <int> & ⋯ & <int> & <int> & <int> & <int> & <int> & <int> & <int> & <int> & <int> & <int>\\\\\n",
       "\\hline\n",
       "\t1 & ENST00000305231.7 & 3268 & 1983 & 2336 & 2148 & 4620 & 4111 & 3977 & 2524 & 7529 & ⋯ & 23628 & 8434 & 1448 & 1651 & 5672 & 2887 & 3332 & 5255 & 7079 & 879\\\\\n",
       "\t2 & ENST00000508661.1 &   75 &   20 &  345 &   53 &  188 &  148 &   88 &   60 &  543 & ⋯ &   497 &  277 &  152 &   47 &  342 &   50 &   39 &   82 &  324 &  57\\\\\n",
       "\t3 & ENST00000502942.1 & 6856 & 3167 & 1376 & 1602 & 3463 & 6012 & 2119 & 2193 & 6285 & ⋯ &  2118 & 6332 &  533 & 2764 & 9667 & 1168 & 3314 & 5359 & 6730 & 982\\\\\n",
       "\\end{tabular}\n"
      ],
      "text/markdown": [
       "\n",
       "A data.frame: 3 × 50\n",
       "\n",
       "| <!--/--> | Feature &lt;chr&gt; | ca74074b.a75c.434c.82dc.e7b112d192ef &lt;int&gt; | X910c8543.cc94.4499.82fe.365c24eac5b1 &lt;int&gt; | X22f1d19e.14f8.403e.9e48.663da7508bf2 &lt;int&gt; | f59f0b5c.a5ac.4859.a862.3425c623341d &lt;int&gt; | fd0df2dd.fa09.4ec1.8996.c6c6aca9c2a6 &lt;int&gt; | f4cc72cf.6f47.4ebc.a9ab.9ba15b6fa411 &lt;int&gt; | X91953b3b.e9ea.49be.a403.92d7a97e4ebc &lt;int&gt; | d69871fb.9d93.4a3f.b4ea.f53de743b25f &lt;int&gt; | X50db517a.a5c7.431e.9439.cb5cffb9b954 &lt;int&gt; | ⋯ ⋯ | X4a68e62e.ae0a.4eeb.a87a.8c67db008b6b &lt;int&gt; | X633ab3db.0f9a.468e.9185.9d4a9cd582ad &lt;int&gt; | X2cdd6339.a1d6.4c7c.889e.6570c64de489 &lt;int&gt; | X2c767be0.1e3f.496f.9b43.1401a354b2a2 &lt;int&gt; | X1520b711.9fdb.4494.8229.b4664ca14d97 &lt;int&gt; | d170e848.cdad.494c.b23c.ac16634412e4 &lt;int&gt; | X512c7b15.19e7.435c.8981.57be0f1ffd58 &lt;int&gt; | X77b373e5.eed3.4b03.bd9a.3a553fb0fca6 &lt;int&gt; | ddb26106.900b.4080.a28b.59927df9d525 &lt;int&gt; | bdab7f7f.35cc.4560.a9a0.2263e62afa6c &lt;int&gt; |\n",
       "|---|---|---|---|---|---|---|---|---|---|---|---|---|---|---|---|---|---|---|---|---|---|\n",
       "| 1 | ENST00000305231.7 | 3268 | 1983 | 2336 | 2148 | 4620 | 4111 | 3977 | 2524 | 7529 | ⋯ | 23628 | 8434 | 1448 | 1651 | 5672 | 2887 | 3332 | 5255 | 7079 | 879 |\n",
       "| 2 | ENST00000508661.1 |   75 |   20 |  345 |   53 |  188 |  148 |   88 |   60 |  543 | ⋯ |   497 |  277 |  152 |   47 |  342 |   50 |   39 |   82 |  324 |  57 |\n",
       "| 3 | ENST00000502942.1 | 6856 | 3167 | 1376 | 1602 | 3463 | 6012 | 2119 | 2193 | 6285 | ⋯ |  2118 | 6332 |  533 | 2764 | 9667 | 1168 | 3314 | 5359 | 6730 | 982 |\n",
       "\n"
      ],
      "text/plain": [
       "  Feature           ca74074b.a75c.434c.82dc.e7b112d192ef\n",
       "1 ENST00000305231.7 3268                                \n",
       "2 ENST00000508661.1   75                                \n",
       "3 ENST00000502942.1 6856                                \n",
       "  X910c8543.cc94.4499.82fe.365c24eac5b1 X22f1d19e.14f8.403e.9e48.663da7508bf2\n",
       "1 1983                                  2336                                 \n",
       "2   20                                   345                                 \n",
       "3 3167                                  1376                                 \n",
       "  f59f0b5c.a5ac.4859.a862.3425c623341d fd0df2dd.fa09.4ec1.8996.c6c6aca9c2a6\n",
       "1 2148                                 4620                                \n",
       "2   53                                  188                                \n",
       "3 1602                                 3463                                \n",
       "  f4cc72cf.6f47.4ebc.a9ab.9ba15b6fa411 X91953b3b.e9ea.49be.a403.92d7a97e4ebc\n",
       "1 4111                                 3977                                 \n",
       "2  148                                   88                                 \n",
       "3 6012                                 2119                                 \n",
       "  d69871fb.9d93.4a3f.b4ea.f53de743b25f X50db517a.a5c7.431e.9439.cb5cffb9b954 ⋯\n",
       "1 2524                                 7529                                  ⋯\n",
       "2   60                                  543                                  ⋯\n",
       "3 2193                                 6285                                  ⋯\n",
       "  X4a68e62e.ae0a.4eeb.a87a.8c67db008b6b X633ab3db.0f9a.468e.9185.9d4a9cd582ad\n",
       "1 23628                                 8434                                 \n",
       "2   497                                  277                                 \n",
       "3  2118                                 6332                                 \n",
       "  X2cdd6339.a1d6.4c7c.889e.6570c64de489 X2c767be0.1e3f.496f.9b43.1401a354b2a2\n",
       "1 1448                                  1651                                 \n",
       "2  152                                    47                                 \n",
       "3  533                                  2764                                 \n",
       "  X1520b711.9fdb.4494.8229.b4664ca14d97 d170e848.cdad.494c.b23c.ac16634412e4\n",
       "1 5672                                  2887                                \n",
       "2  342                                    50                                \n",
       "3 9667                                  1168                                \n",
       "  X512c7b15.19e7.435c.8981.57be0f1ffd58 X77b373e5.eed3.4b03.bd9a.3a553fb0fca6\n",
       "1 3332                                  5255                                 \n",
       "2   39                                    82                                 \n",
       "3 3314                                  5359                                 \n",
       "  ddb26106.900b.4080.a28b.59927df9d525 bdab7f7f.35cc.4560.a9a0.2263e62afa6c\n",
       "1 7079                                 879                                 \n",
       "2  324                                  57                                 \n",
       "3 6730                                 982                                 "
      ]
     },
     "metadata": {},
     "output_type": "display_data"
    }
   ],
   "source": [
    "countData <- read.csv(\"input/pcawg.rnaseq.transcript.UGT2B7.expr.counts.csv\", header = TRUE, sep = \",\")\n",
    "head(countData)"
   ]
  },
  {
   "cell_type": "code",
   "execution_count": 81,
   "id": "f82a8a80",
   "metadata": {},
   "outputs": [
    {
     "data": {
      "text/html": [
       "<table class=\"dataframe\">\n",
       "<caption>A data.frame: 6 × 2</caption>\n",
       "<thead>\n",
       "\t<tr><th></th><th scope=col>id</th><th scope=col>exp</th></tr>\n",
       "\t<tr><th></th><th scope=col>&lt;chr&gt;</th><th scope=col>&lt;chr&gt;</th></tr>\n",
       "</thead>\n",
       "<tbody>\n",
       "\t<tr><th scope=row>1</th><td>ca74074b-a75c-434c-82dc-e7b112d192ef</td><td>No </td></tr>\n",
       "\t<tr><th scope=row>2</th><td>910c8543-cc94-4499-82fe-365c24eac5b1</td><td>Yes</td></tr>\n",
       "\t<tr><th scope=row>3</th><td>22f1d19e-14f8-403e-9e48-663da7508bf2</td><td>No </td></tr>\n",
       "\t<tr><th scope=row>4</th><td>f59f0b5c-a5ac-4859-a862-3425c623341d</td><td>No </td></tr>\n",
       "\t<tr><th scope=row>5</th><td>fd0df2dd-fa09-4ec1-8996-c6c6aca9c2a6</td><td>Yes</td></tr>\n",
       "\t<tr><th scope=row>6</th><td>f4cc72cf-6f47-4ebc-a9ab-9ba15b6fa411</td><td>Yes</td></tr>\n",
       "</tbody>\n",
       "</table>\n"
      ],
      "text/latex": [
       "A data.frame: 6 × 2\n",
       "\\begin{tabular}{r|ll}\n",
       "  & id & exp\\\\\n",
       "  & <chr> & <chr>\\\\\n",
       "\\hline\n",
       "\t1 & ca74074b-a75c-434c-82dc-e7b112d192ef & No \\\\\n",
       "\t2 & 910c8543-cc94-4499-82fe-365c24eac5b1 & Yes\\\\\n",
       "\t3 & 22f1d19e-14f8-403e-9e48-663da7508bf2 & No \\\\\n",
       "\t4 & f59f0b5c-a5ac-4859-a862-3425c623341d & No \\\\\n",
       "\t5 & fd0df2dd-fa09-4ec1-8996-c6c6aca9c2a6 & Yes\\\\\n",
       "\t6 & f4cc72cf-6f47-4ebc-a9ab-9ba15b6fa411 & Yes\\\\\n",
       "\\end{tabular}\n"
      ],
      "text/markdown": [
       "\n",
       "A data.frame: 6 × 2\n",
       "\n",
       "| <!--/--> | id &lt;chr&gt; | exp &lt;chr&gt; |\n",
       "|---|---|---|\n",
       "| 1 | ca74074b-a75c-434c-82dc-e7b112d192ef | No  |\n",
       "| 2 | 910c8543-cc94-4499-82fe-365c24eac5b1 | Yes |\n",
       "| 3 | 22f1d19e-14f8-403e-9e48-663da7508bf2 | No  |\n",
       "| 4 | f59f0b5c-a5ac-4859-a862-3425c623341d | No  |\n",
       "| 5 | fd0df2dd-fa09-4ec1-8996-c6c6aca9c2a6 | Yes |\n",
       "| 6 | f4cc72cf-6f47-4ebc-a9ab-9ba15b6fa411 | Yes |\n",
       "\n"
      ],
      "text/plain": [
       "  id                                   exp\n",
       "1 ca74074b-a75c-434c-82dc-e7b112d192ef No \n",
       "2 910c8543-cc94-4499-82fe-365c24eac5b1 Yes\n",
       "3 22f1d19e-14f8-403e-9e48-663da7508bf2 No \n",
       "4 f59f0b5c-a5ac-4859-a862-3425c623341d No \n",
       "5 fd0df2dd-fa09-4ec1-8996-c6c6aca9c2a6 Yes\n",
       "6 f4cc72cf-6f47-4ebc-a9ab-9ba15b6fa411 Yes"
      ]
     },
     "metadata": {},
     "output_type": "display_data"
    }
   ],
   "source": [
    "metaData <- read.csv('input/pcawg_formatted_rna_metadata_2.csv', header = TRUE, sep = \",\")\n",
    "head(metaData)"
   ]
  },
  {
   "cell_type": "code",
   "execution_count": 82,
   "id": "1de6d7f9",
   "metadata": {},
   "outputs": [
    {
     "name": "stderr",
     "output_type": "stream",
     "text": [
      "Warning message in DESeqDataSet(se, design = design, ignoreRank):\n",
      "“some variables in design formula are characters, converting to factors”\n"
     ]
    }
   ],
   "source": [
    "dds <- DESeqDataSetFromMatrix(countData=countData, \n",
    "                              colData=metaData, \n",
    "                              design=~exp, tidy = TRUE)"
   ]
  },
  {
   "cell_type": "code",
   "execution_count": 83,
   "id": "42adafe9",
   "metadata": {},
   "outputs": [],
   "source": [
    "dds <- estimateSizeFactors(dds)\n",
    "dds <- estimateDispersionsGeneEst(dds)\n",
    "dispersions(dds) <- mcols(dds)$dispGeneEst\n",
    "dds <- nbinomWaldTest(dds)"
   ]
  },
  {
   "cell_type": "code",
   "execution_count": 84,
   "id": "0012364c-8c6f-4f0f-a672-c44cb08ccdf6",
   "metadata": {},
   "outputs": [],
   "source": [
    "res <- results(dds)"
   ]
  },
  {
   "cell_type": "code",
   "execution_count": 85,
   "id": "8e5a3b6f-977b-4abf-8a8b-d2a05d4ea2ac",
   "metadata": {},
   "outputs": [
    {
     "data": {
      "text/plain": [
       "log2 fold change (MLE): exp Yes vs No \n",
       "Wald test p-value: exp Yes vs No \n",
       "DataFrame with 3 rows and 6 columns\n",
       "                   baseMean log2FoldChange     lfcSE      stat     pvalue\n",
       "                  <numeric>      <numeric> <numeric> <numeric>  <numeric>\n",
       "ENST00000305231.7  5048.533       0.315014  0.199649   1.57784 0.11460239\n",
       "ENST00000508661.1   202.808      -0.951054  0.301178  -3.15779 0.00158972\n",
       "ENST00000502942.1  3370.100       0.332827  0.312270   1.06583 0.28649982\n",
       "                        padj\n",
       "                   <numeric>\n",
       "ENST00000305231.7 0.17190359\n",
       "ENST00000508661.1 0.00476917\n",
       "ENST00000502942.1 0.28649982"
      ]
     },
     "metadata": {},
     "output_type": "display_data"
    }
   ],
   "source": [
    "res"
   ]
  },
  {
   "cell_type": "code",
   "execution_count": 86,
   "id": "e27a5a07",
   "metadata": {},
   "outputs": [
    {
     "data": {
      "text/html": [
       "<strong>png:</strong> 2"
      ],
      "text/latex": [
       "\\textbf{png:} 2"
      ],
      "text/markdown": [
       "**png:** 2"
      ],
      "text/plain": [
       "png \n",
       "  2 "
      ]
     },
     "metadata": {},
     "output_type": "display_data"
    }
   ],
   "source": [
    "pdf(file = \"output/plot/exp_UGT2B7.pdf\",   # The directory you want to save the file in\n",
    "    width = 6, # The width of the plot in inches\n",
    "    height = 4)\n",
    "\n",
    "par(mfrow=c(1,3))\n",
    "\n",
    "plotCounts(dds, gene=\"ENST00000508661.1\", intgroup=\"exp\")\n",
    "plotCounts(dds, gene=\"ENST00000305231.7\", intgroup=\"exp\")\n",
    "plotCounts(dds, gene=\"ENST00000502942.1\", intgroup=\"exp\")\n",
    "\n",
    "dev.off()"
   ]
  },
  {
   "cell_type": "code",
   "execution_count": 93,
   "id": "19d5a389",
   "metadata": {},
   "outputs": [],
   "source": [
    "goi <- c('ENST00000508661.1', 'ENST00000305231.7', 'ENST00000502942.1')"
   ]
  },
  {
   "cell_type": "code",
   "execution_count": 94,
   "id": "e0386beb",
   "metadata": {},
   "outputs": [],
   "source": [
    "# tcounts <- t(log2((counts(dds[goi, ], normalized=TRUE, replaced=FALSE)+.5))) %>%\n",
    "#   merge(colData(dds), ., by=\"row.names\") %>%\n",
    "#   gather(gene, expression, (ncol(.)-length(goi)+1):ncol(.))"
   ]
  },
  {
   "cell_type": "code",
   "execution_count": 99,
   "id": "57c3f3e7-dbd9-4eab-ba06-472bc66560f0",
   "metadata": {},
   "outputs": [],
   "source": [
    "tcounts <- t((counts(dds[goi, ], normalized=TRUE, replaced=FALSE))) %>%\n",
    "  merge(colData(dds), ., by=\"row.names\") %>%\n",
    "  gather(gene, expression, (ncol(.)-length(goi)+1):ncol(.))"
   ]
  },
  {
   "cell_type": "code",
   "execution_count": 100,
   "id": "9d137f59",
   "metadata": {},
   "outputs": [
    {
     "data": {
      "text/html": [
       "<table class=\"dataframe\">\n",
       "<caption>A data.frame: 6 × 4</caption>\n",
       "<thead>\n",
       "\t<tr><th></th><th scope=col>Row.names</th><th scope=col>exp</th><th scope=col>gene</th><th scope=col>expression</th></tr>\n",
       "\t<tr><th></th><th scope=col>&lt;I&lt;chr&gt;&gt;</th><th scope=col>&lt;fct&gt;</th><th scope=col>&lt;chr&gt;</th><th scope=col>&lt;dbl&gt;</th></tr>\n",
       "</thead>\n",
       "<tbody>\n",
       "\t<tr><th scope=row>1</th><td>a75135f0.66e9.415a.a9ae.94e54d2439f0</td><td>Yes</td><td>ENST00000508661.1</td><td> 146.4229</td></tr>\n",
       "\t<tr><th scope=row>2</th><td>ad1457f5.c6e3.4493.a216.284a49983e4f</td><td>No </td><td>ENST00000508661.1</td><td> 146.4229</td></tr>\n",
       "\t<tr><th scope=row>3</th><td>b8862635.21cd.405b.b757.8ee924a7a826</td><td>No </td><td>ENST00000508661.1</td><td> 721.5827</td></tr>\n",
       "\t<tr><th scope=row>4</th><td>bdab7f7f.35cc.4560.a9a0.2263e62afa6c</td><td>No </td><td>ENST00000508661.1</td><td> 146.4229</td></tr>\n",
       "\t<tr><th scope=row>5</th><td>bf7a15fb.0afe.49c9.ae7b.f5fc9f47531f</td><td>No </td><td>ENST00000508661.1</td><td>1185.9699</td></tr>\n",
       "\t<tr><th scope=row>6</th><td>c67df408.b68f.43e3.91c9.b81b0d822895</td><td>Yes</td><td>ENST00000508661.1</td><td> 139.2086</td></tr>\n",
       "</tbody>\n",
       "</table>\n"
      ],
      "text/latex": [
       "A data.frame: 6 × 4\n",
       "\\begin{tabular}{r|llll}\n",
       "  & Row.names & exp & gene & expression\\\\\n",
       "  & <I<chr>> & <fct> & <chr> & <dbl>\\\\\n",
       "\\hline\n",
       "\t1 & a75135f0.66e9.415a.a9ae.94e54d2439f0 & Yes & ENST00000508661.1 &  146.4229\\\\\n",
       "\t2 & ad1457f5.c6e3.4493.a216.284a49983e4f & No  & ENST00000508661.1 &  146.4229\\\\\n",
       "\t3 & b8862635.21cd.405b.b757.8ee924a7a826 & No  & ENST00000508661.1 &  721.5827\\\\\n",
       "\t4 & bdab7f7f.35cc.4560.a9a0.2263e62afa6c & No  & ENST00000508661.1 &  146.4229\\\\\n",
       "\t5 & bf7a15fb.0afe.49c9.ae7b.f5fc9f47531f & No  & ENST00000508661.1 & 1185.9699\\\\\n",
       "\t6 & c67df408.b68f.43e3.91c9.b81b0d822895 & Yes & ENST00000508661.1 &  139.2086\\\\\n",
       "\\end{tabular}\n"
      ],
      "text/markdown": [
       "\n",
       "A data.frame: 6 × 4\n",
       "\n",
       "| <!--/--> | Row.names &lt;I&lt;chr&gt;&gt; | exp &lt;fct&gt; | gene &lt;chr&gt; | expression &lt;dbl&gt; |\n",
       "|---|---|---|---|---|\n",
       "| 1 | a75135f0.66e9.415a.a9ae.94e54d2439f0 | Yes | ENST00000508661.1 |  146.4229 |\n",
       "| 2 | ad1457f5.c6e3.4493.a216.284a49983e4f | No  | ENST00000508661.1 |  146.4229 |\n",
       "| 3 | b8862635.21cd.405b.b757.8ee924a7a826 | No  | ENST00000508661.1 |  721.5827 |\n",
       "| 4 | bdab7f7f.35cc.4560.a9a0.2263e62afa6c | No  | ENST00000508661.1 |  146.4229 |\n",
       "| 5 | bf7a15fb.0afe.49c9.ae7b.f5fc9f47531f | No  | ENST00000508661.1 | 1185.9699 |\n",
       "| 6 | c67df408.b68f.43e3.91c9.b81b0d822895 | Yes | ENST00000508661.1 |  139.2086 |\n",
       "\n"
      ],
      "text/plain": [
       "  Row.names                            exp gene              expression\n",
       "1 a75135f0.66e9.415a.a9ae.94e54d2439f0 Yes ENST00000508661.1  146.4229 \n",
       "2 ad1457f5.c6e3.4493.a216.284a49983e4f No  ENST00000508661.1  146.4229 \n",
       "3 b8862635.21cd.405b.b757.8ee924a7a826 No  ENST00000508661.1  721.5827 \n",
       "4 bdab7f7f.35cc.4560.a9a0.2263e62afa6c No  ENST00000508661.1  146.4229 \n",
       "5 bf7a15fb.0afe.49c9.ae7b.f5fc9f47531f No  ENST00000508661.1 1185.9699 \n",
       "6 c67df408.b68f.43e3.91c9.b81b0d822895 Yes ENST00000508661.1  139.2086 "
      ]
     },
     "metadata": {},
     "output_type": "display_data"
    }
   ],
   "source": [
    "tcounts %>% \n",
    "  select(Row.names, exp, gene, expression) %>% \n",
    "  head"
   ]
  },
  {
   "cell_type": "code",
   "execution_count": 101,
   "id": "d3d9974a",
   "metadata": {},
   "outputs": [
    {
     "data": {
      "text/html": [
       "<strong>png:</strong> 2"
      ],
      "text/latex": [
       "\\textbf{png:} 2"
      ],
      "text/markdown": [
       "**png:** 2"
      ],
      "text/plain": [
       "png \n",
       "  2 "
      ]
     },
     "metadata": {},
     "output_type": "display_data"
    }
   ],
   "source": [
    "pdf(file = \"output/plot/exp_UGT2B7_box_linear.pdf\",   # The directory you want to save the file in\n",
    "    width = 6, # The width of the plot in inches\n",
    "    height = 4)\n",
    "\n",
    "ggplot(tcounts, aes(exp, expression)) + \n",
    "  geom_boxplot() + \n",
    "  facet_wrap(~gene, scales=\"free_y\") + \n",
    "  labs(x=\"rRE Expanded\", \n",
    "       y=\"Expression (log normalized counts)\")\n",
    "\n",
    "\n",
    "\n",
    "dev.off()"
   ]
  },
  {
   "cell_type": "code",
   "execution_count": 98,
   "id": "00cbda3a",
   "metadata": {},
   "outputs": [
    {
     "data": {
      "text/html": [
       "<strong>png:</strong> 2"
      ],
      "text/latex": [
       "\\textbf{png:} 2"
      ],
      "text/markdown": [
       "**png:** 2"
      ],
      "text/plain": [
       "png \n",
       "  2 "
      ]
     },
     "metadata": {},
     "output_type": "display_data"
    }
   ],
   "source": [
    "pdf(file = \"output/plot/exp_UGT2B7_violin.pdf\",   # The directory you want to save the file in\n",
    "    width = 6, # The width of the plot in inches\n",
    "    height = 4)\n",
    "\n",
    "ggplot(tcounts, aes(exp, expression)) + \n",
    "  geom_violin() + \n",
    "  facet_wrap(~gene, scales=\"free_y\") + \n",
    "  labs(x=\"rRE Expanded\", \n",
    "       y=\"Expression (log normalized counts)\")\n",
    "\n",
    "dev.off()"
   ]
  }
 ],
 "metadata": {
  "kernelspec": {
   "display_name": "R",
   "language": "R",
   "name": "ir"
  },
  "language_info": {
   "codemirror_mode": "r",
   "file_extension": ".r",
   "mimetype": "text/x-r-source",
   "name": "R",
   "pygments_lexer": "r",
   "version": "4.1.0"
  }
 },
 "nbformat": 4,
 "nbformat_minor": 5
}
